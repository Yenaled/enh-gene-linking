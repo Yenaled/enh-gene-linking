{
 "cells": [
  {
   "cell_type": "code",
   "execution_count": 4,
   "metadata": {},
   "outputs": [],
   "source": [
    "import pandas as pd \n",
    "import numpy as np \n",
    "import matplotlib.pyplot as plt \n",
    "import scipy.stats as st"
   ]
  },
  {
   "cell_type": "code",
   "execution_count": 24,
   "metadata": {},
   "outputs": [],
   "source": [
    "J_data = pd.read_csv(\"../EnhancerPredictions/17_June_data/J_EnhancerPredictions.txt\", sep='\\t')\n",
    "data = pd.read_csv(\"../EnhancerPredictions/17_June_data/EnhancerPredictions.txt\", sep='\\t')\n",
    "\n",
    "unique_genes = J_data[['TargetGene', 'TargetGeneTSS']].drop_duplicates()"
   ]
  },
  {
   "cell_type": "code",
   "execution_count": 58,
   "metadata": {},
   "outputs": [
    {
     "name": "stdout",
     "output_type": "stream",
     "text": [
      "1372\n",
      "1371\n",
      "348\n"
     ]
    }
   ],
   "source": [
    "print(len(J_data))\n",
    "print(len(data))\n",
    "print(len(unique_genes))"
   ]
  },
  {
   "cell_type": "markdown",
   "metadata": {},
   "source": [
    "HiC data : GSE63525_K562_combined.hic\n",
    "Processing HiC data: \n",
    "\n",
    "python src/juicebox_dump.py \\\n",
    "--hic_file GSE63525_K562_combined.hic \\\n",
    "--juicebox \"java -jar juicer_tools.jar\" \\\n",
    "--outdir $HICDIR/raw/ \\\n",
    "--chromosomes 22\n",
    "\n",
    "python src/make_bedgraph_from_HiC.py \\\n",
    "--outdir $HICDIR/bedgraph/ \\\n",
    "--genes example/config/RefSeqCurated.170308.bed.CollapsedGeneBounds.chr22.bed \\\n",
    "--hic_dir $HICDIR/raw/5kb_resolution_intrachromosomal/\n",
    "\n",
    "# Counting number of lines in files \n",
    "\n",
    "Kristy ENCFF030DCL.macs2_peaks.narrowPeak.candidateRegions.bed 136948 \n",
    "Jacob ENCFF030DCL.macs2_peaks.narrowPeak.candidateRegions.bed 136946\n",
    "\n",
    "Kristy EnhancerList.txt.gz 136939\n",
    "Jacob EnhancerList.txt.gz 136937\n"
   ]
  },
  {
   "cell_type": "code",
   "execution_count": 16,
   "metadata": {},
   "outputs": [
    {
     "name": "stdout",
     "output_type": "stream",
     "text": [
      "Index(['chr', 'start', 'end', 'DHS.ENCFF030DCL.bam.readCount',\n",
      "       'DHS.ENCFF030DCL.bam.RPM', 'DHS.ENCFF030DCL.bam.readCount.quantile',\n",
      "       'DHS.ENCFF030DCL.bam.RPM.quantile', 'DHS.ENCFF030DCL.bam.RPKM',\n",
      "       'DHS.ENCFF030DCL.bam.RPKM.quantile', 'DHS.RPM', 'DHS.RPM.quantile',\n",
      "       'DHS.RPKM', 'DHS.RPKM.quantile', 'H3K27ac.ENCFF384ZZM.bam.readCount',\n",
      "       'H3K27ac.ENCFF384ZZM.bam.RPM',\n",
      "       'H3K27ac.ENCFF384ZZM.bam.readCount.quantile',\n",
      "       'H3K27ac.ENCFF384ZZM.bam.RPM.quantile', 'H3K27ac.ENCFF384ZZM.bam.RPKM',\n",
      "       'H3K27ac.ENCFF384ZZM.bam.RPKM.quantile', 'H3K27ac.RPM',\n",
      "       'H3K27ac.RPM.quantile', 'H3K27ac.RPKM', 'H3K27ac.RPKM.quantile',\n",
      "       'normalized_h3K27ac', 'normalized_dhs', 'activity_base', 'cellType',\n",
      "       'class', 'isPromoterElement', 'isGenicElement', 'isIntergenicElement',\n",
      "       'enhancerSymbol', 'name', 'distance', 'isSelfPromoter', 'TargetGene',\n",
      "       'TargetGeneTSS', 'TargetGeneExpression',\n",
      "       'TargetGenePromoterActivityQuantile', 'hic.distance', 'hic.rowmax',\n",
      "       'hic.distance.unscaled', 'hic.rowmax.unscaled', 'hic.distance.adj',\n",
      "       'hic_adjustment', 'estimatedCP', 'estimatedCP.adj',\n",
      "       'ABC.Score.Numerator', 'ABC.Score', 'powerlaw.Score.Numerator',\n",
      "       'powerlaw.Score'],\n",
      "      dtype='object')\n"
     ]
    }
   ],
   "source": [
    "print(data.columns)"
   ]
  },
  {
   "cell_type": "code",
   "execution_count": 59,
   "metadata": {},
   "outputs": [],
   "source": [
    "def get_matches(ac_match, match, genes_not_compared, difference, diff_hic, diff_activity, actual_scores_total, my_scores, gene, gene_tss): \n",
    "    gene.append([i] *len(ac_match))\n",
    "    gene_tss.append(match['TargetGeneTSS'] *len(ac_match))\n",
    "    ac_score = np.sort(ac_match['ABC.Score'])\n",
    "    actual_scores_total.append(ac_score)\n",
    "    score = np.sort(match['ABC.Score'])\n",
    "    my_scores.append(score)\n",
    "    ac_hic_distance = np.sort(ac_match['hic.distance.adj'])\n",
    "    hic_distance = np.sort(match['hic.distance.adj'])\n",
    "    ac_ac_base = np.sort(ac_match['activity_base'])\n",
    "    ac_base = np.sort(match['activity_base'])\n",
    "    diff1 = ac_hic_distance-hic_distance\n",
    "    diff2 = ac_ac_base - ac_base\n",
    "    diff_hic.append(diff1)\n",
    "    diff_activity.append(diff2)\n",
    "    return genes_not_compared, difference, diff_hic, diff_activity, actual_scores_total, my_scores, gene, gene_tss"
   ]
  }
   ],
   "source": [
    "genes_not_compared=[]\n",
    "difference=[]\n",
    "diff_hic=[]\n",
    "diff_activity=[]\n",
    "actual_scores_total = []\n",
    "my_scores=[]\n",
    "gene=[]\n",
    "gene_tss=[]\n",
    "for i in unique_genes['TargetGene']: \n",
    "    ac_match = J_data.loc[(J_data['TargetGene']==i)]\n",
    "    match = data.loc[data['TargetGene']==i]\n",
    "    print(len(ac_match)-len(match))\n",
    "    if len(ac_match)==len(match): \n",
    "        genes_not_compared, difference, diff_hic, diff_activity, actual_scores_total, my_scores, gene, gene_tss = get_matches(ac_match, match, genes_not_compared, difference, diff_hic, diff_activity, actual_scores_total, my_scores, gene, gene_tss) \n",
    "    elif len(match) & len(ac_match)!= None:\n",
    "        if len(match) < len(ac_match):\n",
    "            ac_match = ac_match[:len(match)] \n",
    "            genes_not_compared, difference, diff_hic, diff_activity, actual_scores_total, my_scores, gene, gene_tss = get_matches(ac_match, match, genes_not_compared, difference, diff_hic, diff_activity, actual_scores_total, my_scores, gene, gene_tss)\n",
    "        else: \n",
    "            match = match[:len(ac_match)]\n",
    "            genes_not_compared, difference, diff_hic, diff_activity, actual_scores_total, my_scores, gene, gene_tss = get_matches(ac_match, match, genes_not_compared, difference, diff_hic, diff_activity, actual_scores_total, my_scores, gene, gene_tss)\n",
    "        score = np.sort(match['ABC.Score'])\n",
    "        my_scores.append(score)\n",
    "        ac_score = np.sort(ac_match['ABC.Score'])\n",
    "        actual_scores_total.append(ac_score)\n",
    "        ac_hic_distance = np.sort(ac_match['hic.distance.adj'])\n",
    "        hic_distance = np.sort(match['hic.distance.adj'])\n",
    "        ac_ac_base = np.sort(ac_match['activity_base'])\n",
    "        ac_base = np.sort(match['activity_base'])\n",
    "    else: \n",
    "        genes_not_compared.append(i)\n"
   ]
  },
  {
   "cell_type": "code",
   "execution_count": null,
   "metadata": {},
   "outputs": [],
   "source": []
  },
  {
   "cell_type": "code",
   "execution_count": 27,
   "metadata": {},
   "outputs": [],
   "source": [
    "actual_scores = [i for sublist in actual_scores_total for i in sublist]\n",
    "scores = [i for sublist in my_scores for i in sublist]"
   ]
  },
  {
   "cell_type": "code",
   "execution_count": 28,
   "metadata": {},
   "outputs": [
    {
     "name": "stdout",
     "output_type": "stream",
     "text": [
      "1289\n",
      "1289\n",
      "0\n"
     ]
    }
   ],
   "source": [
    "print(len(actual_scores))\n",
    "print(len(scores))\n",
    "print(len(genes_not_compared))"
   ]
  },
  {
   "cell_type": "code",
   "execution_count": null,
   "metadata": {},
   "outputs": [],
   "source": []
  },
  {
   "cell_type": "markdown",
   "metadata": {},
   "source": [
    "## Correlation Graph between K_ABC and J_ABC"
   ]
  },
  {
   "cell_type": "code",
   "execution_count": 29,
   "metadata": {},
   "outputs": [
    {
     "data": {
      "text/plain": [
       "[<matplotlib.lines.Line2D at 0x1a22e2bba8>]"
      ]
     },
     "execution_count": 29,
     "metadata": {},
     "output_type": "execute_result"
    },
    {
     "data": {
      "image/png": "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\n",
      "text/plain": [
       "<Figure size 432x288 with 1 Axes>"
      ]
     },
     "metadata": {},
     "output_type": "display_data"
    }
   ],
   "source": [
    "x=actual_scores\n",
    "y=scores\n",
    "plt.xlabel('K_ABC Score')\n",
    "plt.ylabel('ABC Score')\n",
    "plt.title('Scatterplot')\n",
    "plt.plot(x, y, 'ro')"
   ]
  },
  {
   "cell_type": "code",
   "execution_count": 31,
   "metadata": {},
   "outputs": [],
   "source": [
    "# Gaussian kernel density \n",
    "nbins = 400\n",
    "actual_scores_1 = np.asarray(actual_scores)\n",
    "scores_1 = np.asarray(scores)\n",
    "\n",
    "\n",
    "k = st.gaussian_kde([actual_scores_1, scores_1])\n",
    "xi, yi = np.mgrid[actual_scores_1.min():actual_scores_1.max():nbins*1j, scores_1.min():scores_1.max():nbins*1j]\n",
    "zi = k(np.vstack([xi.flatten(), yi.flatten()]))\n"
   ]
  },
  {
   "cell_type": "code",
   "execution_count": 32,
   "metadata": {},
   "outputs": [
    {
     "data": {
      "image/png": "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\n",
      "text/plain": [
       "<Figure size 432x288 with 2 Axes>"
      ]
     },
     "metadata": {},
     "output_type": "display_data"
    }
   ],
   "source": [
    "# Make Plot \n",
    "fig, axes = plt.subplots(ncols=2, nrows=1, sharex=True, sharey=True)\n",
    "#plt.scatter(actual_scores, scores, s=6)\n",
    "plt.xlabel('K_ABC Score')\n",
    "plt.ylabel('ABC Score')\n",
    "nbins=30\n",
    "\n",
    "axes[0].set_title('Hexbin plot')\n",
    "axes[0].hexbin(x, y, gridsize=nbins, bins='log',xscale='log', yscale='log')\n",
    "axes[1].set_title('Gaussian Kernel Density Estimation')\n",
    "axes[1].pcolormesh(xi,yi,zi.reshape(xi.shape), vmin=0, vmax=1)\n",
    "fig.tight_layout()"
   ]
  },
  {
   "cell_type": "code",
   "execution_count": 33,
   "metadata": {},
   "outputs": [
    {
     "name": "stdout",
     "output_type": "stream",
     "text": [
      "Pearson_correlation: (0.9722559676857719, 0.0)\n",
      "Spearman_correlation: SpearmanrResult(correlation=0.8979512735435723, pvalue=0.0)\n"
     ]
    }
   ],
   "source": [
    "import scipy.stats\n",
    "\n",
    "print(\"Pearson_correlation: {}\".format(scipy.stats.pearsonr(actual_scores_1, scores_1)))\n",
    "print(\"Spearman_correlation: {}\".format(scipy.stats.spearmanr(actual_scores_1,scores_1)))"
   ]
  },
  {
   "cell_type": "code",
   "execution_count": 37,
   "metadata": {},
   "outputs": [
    {
     "data": {
      "text/plain": [
       "(array([  9.,  15.,  16.,  19.,  22.,  36.,  32.,  68.,  71.,  84., 177.,\n",
       "        166., 128.,  83.,  75.,  52.,  39.,  27.,  25.,  17.,  13.]),\n",
       " array([-1.10000000e-02, -1.00000000e-02, -9.00000000e-03, -8.00000000e-03,\n",
       "        -7.00000000e-03, -6.00000000e-03, -5.00000000e-03, -4.00000000e-03,\n",
       "        -3.00000000e-03, -2.00000000e-03, -1.00000000e-03,  1.04083409e-17,\n",
       "         1.00000000e-03,  2.00000000e-03,  3.00000000e-03,  4.00000000e-03,\n",
       "         5.00000000e-03,  6.00000000e-03,  7.00000000e-03,  8.00000000e-03,\n",
       "         9.00000000e-03,  1.00000000e-02]),\n",
       " <a list of 21 Patch objects>)"
      ]
     },
     "execution_count": 37,
     "metadata": {},
     "output_type": "execute_result"
    },
    {
     "data": {
      "image/png": "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\n",
      "text/plain": [
       "<Figure size 432x288 with 1 Axes>"
      ]
     },
     "metadata": {},
     "output_type": "display_data"
    }
   ],
   "source": [
    "from matplotlib import pyplot as plt\n",
    "import numpy as np\n",
    "\n",
    "differences = np.array(actual_scores) - np.array(scores)\n",
    "plt.hist(differences, bins=np.arange(-0.011,0.011, 0.001))"
   ]
  },
  {
   "cell_type": "code",
   "execution_count": 35,
   "metadata": {},
   "outputs": [
    {
     "name": "stdout",
     "output_type": "stream",
     "text": [
      "0.00025252133436772694\n",
      "0.0107548020669176\n"
     ]
    }
   ],
   "source": [
    "print(abs(np.mean(differences)))\n",
    "print(np.std(differences))\n"
   ]
  },
  {
   "cell_type": "code",
   "execution_count": 38,
   "metadata": {},
   "outputs": [
    {
     "data": {
      "text/plain": [
       "8"
      ]
     },
     "execution_count": 38,
     "metadata": {},
     "output_type": "execute_result"
    }
   ],
   "source": [
    "(differences>0.05).sum()"
   ]
  },
  {
   "cell_type": "markdown",
   "metadata": {},
   "source": [
    "## Looking at the differences "
   ]
  },
  {
   "cell_type": "code",
   "execution_count": 57,
   "metadata": {},
   "outputs": [
    {
     "name": "stdout",
     "output_type": "stream",
     "text": [
      "220\n",
      "220\n",
      "841\n"
     ]
    }
   ],
   "source": [
    "item_index = np.where(differences>0.05)\n",
    "diff_ac = [i for sublist in diff_activity for i in sublist]\n",
    "hic_a = [i for sublist in diff_hic for i in sublist]\n",
    "print(len(gene))\n",
    "gene_a = [i for sublist in gene for i in sublist]\n",
    "print(len(gene_tss))\n",
    "tss_a = [i for sublist in gene_tss for i in sublist]\n",
    "print(len(tss_a))"
   ]
  },
  {
   "cell_type": "code",
   "execution_count": null,
   "metadata": {},
   "outputs": [],
   "source": []
  },
  {
   "cell_type": "code",
   "execution_count": 51,
   "metadata": {},
   "outputs": [
    {
     "name": "stdout",
     "output_type": "stream",
     "text": [
      "514\n",
      "933\n"
     ]
    },
    {
     "ename": "IndexError",
     "evalue": "list index out of range",
     "output_type": "error",
     "traceback": [
      "\u001b[0;31m-------------------------------------------------\u001b[0m",
      "\u001b[0;31mIndexError\u001b[0m      Traceback (most recent call last)",
      "\u001b[0;32m<ipython-input-51-96686aa0e6ec>\u001b[0m in \u001b[0;36m<module>\u001b[0;34m()\u001b[0m\n\u001b[1;32m      7\u001b[0m \u001b[0;32mfor\u001b[0m \u001b[0mi\u001b[0m \u001b[0;32min\u001b[0m \u001b[0mitem_index\u001b[0m\u001b[0;34m[\u001b[0m\u001b[0;36m0\u001b[0m\u001b[0;34m]\u001b[0m\u001b[0;34m:\u001b[0m\u001b[0;34m\u001b[0m\u001b[0m\n\u001b[1;32m      8\u001b[0m     \u001b[0mprint\u001b[0m\u001b[0;34m(\u001b[0m\u001b[0mi\u001b[0m\u001b[0;34m)\u001b[0m\u001b[0;34m\u001b[0m\u001b[0m\n\u001b[0;32m----> 9\u001b[0;31m     \u001b[0mgene_tss_a\u001b[0m\u001b[0;34m.\u001b[0m\u001b[0mappend\u001b[0m\u001b[0;34m(\u001b[0m\u001b[0mtss_a\u001b[0m\u001b[0;34m[\u001b[0m\u001b[0mi\u001b[0m\u001b[0;34m]\u001b[0m\u001b[0;34m)\u001b[0m\u001b[0;34m\u001b[0m\u001b[0m\n\u001b[0m\u001b[1;32m     10\u001b[0m     \u001b[0mgene_name_a\u001b[0m\u001b[0;34m.\u001b[0m\u001b[0mappend\u001b[0m\u001b[0;34m(\u001b[0m\u001b[0mgene_a\u001b[0m\u001b[0;34m[\u001b[0m\u001b[0mi\u001b[0m\u001b[0;34m]\u001b[0m\u001b[0;34m)\u001b[0m\u001b[0;34m\u001b[0m\u001b[0m\n\u001b[1;32m     11\u001b[0m     \u001b[0mhic\u001b[0m\u001b[0;34m.\u001b[0m\u001b[0mappend\u001b[0m\u001b[0;34m(\u001b[0m\u001b[0mhic_a\u001b[0m\u001b[0;34m[\u001b[0m\u001b[0mi\u001b[0m\u001b[0;34m]\u001b[0m\u001b[0;34m)\u001b[0m\u001b[0;34m\u001b[0m\u001b[0m\n",
      "\u001b[0;31mIndexError\u001b[0m: list index out of range"
     ]
    }
   ],
   "source": [
    "hic=[]\n",
    "activity=[]\n",
    "diff_a=[]\n",
    "gene_tss_a=[]\n",
    "gene_name_a=[]\n",
    "\n",
    "for i in item_index[0]:\n",
    "    print(i)\n",
    "    gene_tss_a.append(tss_a[i])\n",
    "    gene_name_a.append(gene_a[i])\n",
    "    hic.append(hic_a[i])\n",
    "    activity.append(diff_ac[i])\n",
    "    diff_a.append(differences[i])"
   ]
  },
  {
   "cell_type": "code",
   "execution_count": null,
   "metadata": {},
   "outputs": [],
   "source": []
  }
 ],
 "metadata": {
  "kernelspec": {
   "display_name": "Python 3",
   "language": "python",
   "name": "python3"
  },
  "language_info": {
   "codemirror_mode": {
    "name": "ipython",
    "version": 3
   },
   "file_extension": ".py",
   "mimetype": "text/x-python",
   "name": "python",
   "nbconvert_exporter": "python",
   "pygments_lexer": "ipython3",
   "version": "3.6.5"
  }
 },
 "nbformat": 4,
 "nbformat_minor": 2
}
