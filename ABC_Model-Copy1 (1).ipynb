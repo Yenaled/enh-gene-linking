{
 "cells": [
  {
   "cell_type": "markdown",
   "metadata": {},
   "source": []
  },
  {
   "cell_type": "markdown",
   "metadata": {},
   "source": [
    "# Running ABC Model"
   ]
  },
  {
   "cell_type": "markdown",
   "metadata": {},
   "source": [
    "## Input files \n",
    "1. Input files used \n",
    "2. Other Input files used in cellTypeParameters.txt and genomes.txt \n",
    "3. How the genes file was curated \n",
    "4. Getting enhancer regions from DHS peak files \n",
    "5. Processing Hi-C files "
   ]
  },
  {
   "cell_type": "markdown",
   "metadata": {},
   "source": [
    "1. Input files \n",
    "Datafiles used: \n",
    "\n",
    "DHS files: ENCFF658OKV, ENCFF372IZN\n",
    "DNase_files: ENCFF246VVI\n",
    "H3K27ac files: ENCFF384ZZM\n",
    "HI-C files: GSE63525\n",
    " "
   ]
  },
  {
   "cell_type": "markdown",
   "metadata": {},
   "source": [
    "For the DNase and H3K27ac files, one replicate file was used -- recommended by Joseph "
   ]
  },
  {
   "cell_type": "markdown",
   "metadata": {},
   "source": [
    "2. Other Input files used in :\n",
    "\n",
    "cellTypeParameters.txt : example/input_data/Expression/K562.featureCounts.RPKM.txt\n",
    "\n",
    "genomes.txt : example/config/UbiquitouslyExpressedGenesHG19.txt"
   ]
  },
  {
   "cell_type": "markdown",
   "metadata": {},
   "source": [
    "3. Curating the --genes file: \n",
    "downloaded from: http://hgdownload.soe.ucsc.edu/goldenPath/hg19/database/refGene.txt.gz \n",
    "\n",
    "- removed any alt chr_ \n",
    "- removed MIR genes \n",
    "- picked the isoform with the smallest ID number (recommended by Joseph) \n",
    "\n",
    "For example: <br>\n",
    "chr3\t57742982\t57915741\tSLMAP;NM_001304420\t0\t+ <br>\n",
    "chr3\t57742982\t57915741\tSLMAP;NM_001304421\t0\t+ <br>\n",
    "    chr3\t57742982\t57915741\tSLMAP;NM_007159\t0\t+ <br>\n",
    "chr3\t57875640\t57915741\tSLMAP;NM_001311178\t0\t+ <br>\n",
    "chr3\t57875640\t57915741\tSLMAP;NM_001304423\t0\t+ <br>\n",
    "chr3\t57875640\t57904209\tSLMAP;NM_001311179\t0\t+ <br>\n",
    "chr3\t57875640\t57915741\tSLMAP;NM_001304422\t0\t+ <br>\n",
    "\n",
    "We would pick the first row since the NM_ID is the lowest. "
   ]
  },
  {
   "cell_type": "markdown",
   "metadata": {},
   "source": [
    "4. Getting Enhancer Candidate Regions \n",
    "Used both replicates of the DHS files\n",
    "\n",
    "First, I converted BigBed to bed by using the utility downloaded from: http://hgdownload.cse.ucsc.edu/admin/exe/linux.x86_64/.\n",
    "\n",
    "Next, ran the commands : \n",
    "chmod +x bigBedToBed & ./bigBedToBed\n",
    "cat *.bed > merged.bed\n",
    "sort -k1,1 -k2,2n merged.bed > merged.sorted.bed\n",
    "bedtools slop -b 175 -i example/input_data/Chromatin/mergedPeaks.bed -g example/config/chrom.sizes.bed | bedtools merge -i stdin > example/input_data/Chromatin/wgEncodeUwDnaseK562.mergedPeaks.slop175.bed\n",
    "\n",
    "In the paper, this generated ~175k but I got ~220k candidate peaks "
   ]
  },
  {
   "cell_type": "markdown",
   "metadata": {},
   "source": [
    "5. Getting Hi-C bedgraph files: \n",
    "Used code via ABC-code github\n",
    "\n",
    "python src/make_bedgraph_from_HiC.py \\\n",
    "--outdir $HICDIR/bedgraph/ \\\n",
    "--genes example/config/RefSeqCurated.170308.chr22.small.bed \\\n",
    "--hic_dir $HICDIR/raw/5kb_resolution_intrachromosomal/"
   ]
  },
  {
   "cell_type": "markdown",
   "metadata": {},
   "source": [
    "## Quantifying Enhancer Activity\n",
    "used the commands in the github repo"
   ]
  },
  {
   "cell_type": "code",
   "execution_count": null,
   "metadata": {},
   "outputs": [],
   "source": [
    "python src/run.neighborhoods.py \\\n",
    "--cellType K562 \\\n",
    "--params_file example/config/cellTypeParameters.txt \\\n",
    "--outdir $NBHDDIR \\\n",
    "--genome example/config/genomes.txt \\\n",
    "--candidate_enhancer_regions example/input_data/Chromatin/wgEncodeUwDnaseK562.mergedPeaks.chr22.slop175.bed \\\n",
    "--genes example/config/RefSeqCurated.170308.chr22.small.bed"
   ]
  },
  {
   "cell_type": "markdown",
   "metadata": {},
   "source": [
    "## Predicting Enh-Gene Pairs\n",
    "used the commands in the github repo "
   ]
  },
  {
   "cell_type": "code",
   "execution_count": null,
   "metadata": {},
   "outputs": [],
   "source": [
    "python src/predict.py \\\n",
    "--cellType K562 \\\n",
    "--params_file example/config/cellTypeParameters.txt \\\n",
    "--outdir $PREDDIR \\\n",
    "--HiCdir example/input_data/HiC/bedgraph/ \\\n",
    "--nbhd_directory $NBHDDIR \\\n",
    "--threshold .022"
   ]
  },
  {
   "cell_type": "markdown",
   "metadata": {},
   "source": []
  },
  {
   "cell_type": "markdown",
   "metadata": {},
   "source": [
    "# Runtime\n",
    "1. Quantifying Enhancer Activity\n",
    "~ Runtime : 156.1910161972046 ~ 2.6 min\n",
    "\n",
    "2. Making predictions \n",
    "~ 15 hours for 23 chromosomes and 23k genes"
   ]
  },
  {
   "cell_type": "markdown",
   "metadata": {},
   "source": [
    "# Analysis for K562"
   ]
  },
  {
   "cell_type": "code",
   "execution_count": 2,
   "metadata": {},
   "outputs": [],
   "source": [
    "import pandas as pd\n",
    "# Jesse's Predictions \n",
    "actual_data = pd.read_csv(\"../ABC/actual_K562.csv\")\n",
    "ac_data = actual_data[['chr', 'start', 'end', 'TargetGene', 'TargetGeneTSS', 'Normalized_HiC_Contacts', 'Activity', 'ABC_Score']]"
   ]
  },
  {
   "cell_type": "code",
   "execution_count": 32,
   "metadata": {},
   "outputs": [],
   "source": [
    "# List of unique genes \n",
    "unique_genes = ac_data[['TargetGene', 'TargetGeneTSS']].drop_duplicates()\n",
    "#print(unique_genes)\n",
    "#print(unique_genes[:5])\n",
    "#print(len(ac_data))"
   ]
  },
  {
   "cell_type": "code",
   "execution_count": 7,
   "metadata": {},
   "outputs": [],
   "source": [
    "# My predictions\n",
    "data_6may = pd.read_csv(\"../EnhancerPredictions/EnhancerPredictions_6May.txt\", sep='\\t')\n",
    "data_6 = data_6may[['chr', 'start', 'end', 'TargetGene', 'TargetGeneTSS','class','hic.distance.adj', 'activity_base', 'ABC.Score']]"
   ]
  },
  {
   "cell_type": "code",
   "execution_count": 8,
   "metadata": {},
   "outputs": [],
   "source": [
    "data_6 = data_6.drop_duplicates(['chr', 'start', 'end', 'TargetGene','TargetGeneTSS', 'ABC.Score'])\n",
    "#print(len(data_6))"
   ]
  },
  {
   "cell_type": "markdown",
   "metadata": {},
   "source": [
    "## Looking at individual ABC Scores and comparing them "
   ]
  },
  {
   "cell_type": "markdown",
   "metadata": {},
   "source": [
    "I started looking at individual genes. \n",
    "For genes where relatively similar enhancer regions were picked, there are variations in the ABC Scores observed\n",
    "\n",
    "For the following evaluation, note that: \n",
    "ac_data refers to Jesse's Table S6 results \n",
    "data_6 refers to my scores "
   ]
  },
  {
   "cell_type": "code",
   "execution_count": 14,
   "metadata": {},
   "outputs": [
    {
     "data": {
      "text/html": [
       "<div>\n",
       "<style scoped>\n",
       "    .dataframe tbody tr th:only-of-type {\n",
       "        vertical-align: middle;\n",
       "    }\n",
       "\n",
       "    .dataframe tbody tr th {\n",
       "        vertical-align: top;\n",
       "    }\n",
       "\n",
       "    .dataframe thead th {\n",
       "        text-align: right;\n",
       "    }\n",
       "</style>\n",
       "<table border=\"1\" class=\"dataframe\">\n",
       "  <thead>\n",
       "    <tr style=\"text-align: right;\">\n",
       "      <th></th>\n",
       "      <th>chr</th>\n",
       "      <th>start</th>\n",
       "      <th>end</th>\n",
       "      <th>TargetGene</th>\n",
       "      <th>TargetGeneTSS</th>\n",
       "      <th>Normalized_HiC_Contacts</th>\n",
       "      <th>Activity</th>\n",
       "      <th>ABC_Score</th>\n",
       "    </tr>\n",
       "  </thead>\n",
       "  <tbody>\n",
       "    <tr>\n",
       "      <th>531</th>\n",
       "      <td>chr1</td>\n",
       "      <td>22773985.0</td>\n",
       "      <td>22774485.0</td>\n",
       "      <td>ZBTB40</td>\n",
       "      <td>22778343.0</td>\n",
       "      <td>100.0000</td>\n",
       "      <td>1.7324</td>\n",
       "      <td>0.0345</td>\n",
       "    </tr>\n",
       "    <tr>\n",
       "      <th>532</th>\n",
       "      <td>chr1</td>\n",
       "      <td>22780945.0</td>\n",
       "      <td>22781445.0</td>\n",
       "      <td>ZBTB40</td>\n",
       "      <td>22778343.0</td>\n",
       "      <td>90.0543</td>\n",
       "      <td>2.6998</td>\n",
       "      <td>0.0484</td>\n",
       "    </tr>\n",
       "  </tbody>\n",
       "</table>\n",
       "</div>"
      ],
      "text/plain": [
       "      chr       start         end TargetGene  TargetGeneTSS  \\\n",
       "531  chr1  22773985.0  22774485.0     ZBTB40     22778343.0   \n",
       "532  chr1  22780945.0  22781445.0     ZBTB40     22778343.0   \n",
       "\n",
       "     Normalized_HiC_Contacts  Activity  ABC_Score  \n",
       "531                 100.0000    1.7324     0.0345  \n",
       "532                  90.0543    2.6998     0.0484  "
      ]
     },
     "execution_count": 14,
     "metadata": {},
     "output_type": "execute_result"
    }
   ],
   "source": [
    "ac_data.loc[(ac_data['TargetGene']==unique_genes_1[150])]"
   ]
  },
  {
   "cell_type": "code",
   "execution_count": 15,
   "metadata": {},
   "outputs": [
    {
     "data": {
      "text/html": [
       "<div>\n",
       "<style scoped>\n",
       "    .dataframe tbody tr th:only-of-type {\n",
       "        vertical-align: middle;\n",
       "    }\n",
       "\n",
       "    .dataframe tbody tr th {\n",
       "        vertical-align: top;\n",
       "    }\n",
       "\n",
       "    .dataframe thead th {\n",
       "        text-align: right;\n",
       "    }\n",
       "</style>\n",
       "<table border=\"1\" class=\"dataframe\">\n",
       "  <thead>\n",
       "    <tr style=\"text-align: right;\">\n",
       "      <th></th>\n",
       "      <th>chr</th>\n",
       "      <th>start</th>\n",
       "      <th>end</th>\n",
       "      <th>TargetGene</th>\n",
       "      <th>TargetGeneTSS</th>\n",
       "      <th>class</th>\n",
       "      <th>hic.distance.adj</th>\n",
       "      <th>activity_base</th>\n",
       "      <th>ABC.Score</th>\n",
       "    </tr>\n",
       "  </thead>\n",
       "  <tbody>\n",
       "    <tr>\n",
       "      <th>630</th>\n",
       "      <td>chr1</td>\n",
       "      <td>22780920</td>\n",
       "      <td>22781420</td>\n",
       "      <td>ZBTB40</td>\n",
       "      <td>22778343</td>\n",
       "      <td>genic</td>\n",
       "      <td>90.1236</td>\n",
       "      <td>2.5432</td>\n",
       "      <td>0.0474</td>\n",
       "    </tr>\n",
       "    <tr>\n",
       "      <th>631</th>\n",
       "      <td>chr1</td>\n",
       "      <td>22774000</td>\n",
       "      <td>22774500</td>\n",
       "      <td>ZBTB40</td>\n",
       "      <td>22778343</td>\n",
       "      <td>intergenic</td>\n",
       "      <td>100.0000</td>\n",
       "      <td>1.4955</td>\n",
       "      <td>0.0309</td>\n",
       "    </tr>\n",
       "  </tbody>\n",
       "</table>\n",
       "</div>"
      ],
      "text/plain": [
       "      chr     start       end TargetGene  TargetGeneTSS       class  \\\n",
       "630  chr1  22780920  22781420     ZBTB40       22778343       genic   \n",
       "631  chr1  22774000  22774500     ZBTB40       22778343  intergenic   \n",
       "\n",
       "     hic.distance.adj  activity_base  ABC.Score  \n",
       "630           90.1236         2.5432     0.0474  \n",
       "631          100.0000         1.4955     0.0309  "
      ]
     },
     "execution_count": 15,
     "metadata": {},
     "output_type": "execute_result"
    }
   ],
   "source": [
    "data_6.loc[data_6['TargetGene']==unique_genes_1[150]]"
   ]
  },
  {
   "cell_type": "code",
   "execution_count": 16,
   "metadata": {},
   "outputs": [
    {
     "data": {
      "text/html": [
       "<div>\n",
       "<style scoped>\n",
       "    .dataframe tbody tr th:only-of-type {\n",
       "        vertical-align: middle;\n",
       "    }\n",
       "\n",
       "    .dataframe tbody tr th {\n",
       "        vertical-align: top;\n",
       "    }\n",
       "\n",
       "    .dataframe thead th {\n",
       "        text-align: right;\n",
       "    }\n",
       "</style>\n",
       "<table border=\"1\" class=\"dataframe\">\n",
       "  <thead>\n",
       "    <tr style=\"text-align: right;\">\n",
       "      <th></th>\n",
       "      <th>chr</th>\n",
       "      <th>start</th>\n",
       "      <th>end</th>\n",
       "      <th>TargetGene</th>\n",
       "      <th>TargetGeneTSS</th>\n",
       "      <th>Normalized_HiC_Contacts</th>\n",
       "      <th>Activity</th>\n",
       "      <th>ABC_Score</th>\n",
       "    </tr>\n",
       "  </thead>\n",
       "  <tbody>\n",
       "    <tr>\n",
       "      <th>944</th>\n",
       "      <td>chr1</td>\n",
       "      <td>41329145.0</td>\n",
       "      <td>41330125.0</td>\n",
       "      <td>ZFP69B</td>\n",
       "      <td>40916336.0</td>\n",
       "      <td>7.9089</td>\n",
       "      <td>27.4543</td>\n",
       "      <td>0.0287</td>\n",
       "    </tr>\n",
       "    <tr>\n",
       "      <th>945</th>\n",
       "      <td>chr1</td>\n",
       "      <td>40848745.0</td>\n",
       "      <td>40850525.0</td>\n",
       "      <td>ZFP69B</td>\n",
       "      <td>40916336.0</td>\n",
       "      <td>9.9176</td>\n",
       "      <td>46.0081</td>\n",
       "      <td>0.0604</td>\n",
       "    </tr>\n",
       "  </tbody>\n",
       "</table>\n",
       "</div>"
      ],
      "text/plain": [
       "      chr       start         end TargetGene  TargetGeneTSS  \\\n",
       "944  chr1  41329145.0  41330125.0     ZFP69B     40916336.0   \n",
       "945  chr1  40848745.0  40850525.0     ZFP69B     40916336.0   \n",
       "\n",
       "     Normalized_HiC_Contacts  Activity  ABC_Score  \n",
       "944                   7.9089   27.4543     0.0287  \n",
       "945                   9.9176   46.0081     0.0604  "
      ]
     },
     "execution_count": 16,
     "metadata": {},
     "output_type": "execute_result"
    }
   ],
   "source": [
    "ac_data.loc[(ac_data['TargetGene']==unique_genes_1[300])]"
   ]
  },
  {
   "cell_type": "code",
   "execution_count": 17,
   "metadata": {},
   "outputs": [
    {
     "data": {
      "text/html": [
       "<div>\n",
       "<style scoped>\n",
       "    .dataframe tbody tr th:only-of-type {\n",
       "        vertical-align: middle;\n",
       "    }\n",
       "\n",
       "    .dataframe tbody tr th {\n",
       "        vertical-align: top;\n",
       "    }\n",
       "\n",
       "    .dataframe thead th {\n",
       "        text-align: right;\n",
       "    }\n",
       "</style>\n",
       "<table border=\"1\" class=\"dataframe\">\n",
       "  <thead>\n",
       "    <tr style=\"text-align: right;\">\n",
       "      <th></th>\n",
       "      <th>chr</th>\n",
       "      <th>start</th>\n",
       "      <th>end</th>\n",
       "      <th>TargetGene</th>\n",
       "      <th>TargetGeneTSS</th>\n",
       "      <th>class</th>\n",
       "      <th>hic.distance.adj</th>\n",
       "      <th>activity_base</th>\n",
       "      <th>ABC.Score</th>\n",
       "    </tr>\n",
       "  </thead>\n",
       "  <tbody>\n",
       "    <tr>\n",
       "      <th>1176</th>\n",
       "      <td>chr1</td>\n",
       "      <td>40848778</td>\n",
       "      <td>40849660</td>\n",
       "      <td>ZFP69B</td>\n",
       "      <td>40916147</td>\n",
       "      <td>genic</td>\n",
       "      <td>9.9869</td>\n",
       "      <td>31.4766</td>\n",
       "      <td>0.0443</td>\n",
       "    </tr>\n",
       "    <tr>\n",
       "      <th>1177</th>\n",
       "      <td>chr1</td>\n",
       "      <td>41329180</td>\n",
       "      <td>41330160</td>\n",
       "      <td>ZFP69B</td>\n",
       "      <td>40916147</td>\n",
       "      <td>intergenic</td>\n",
       "      <td>7.9782</td>\n",
       "      <td>25.0622</td>\n",
       "      <td>0.0282</td>\n",
       "    </tr>\n",
       "  </tbody>\n",
       "</table>\n",
       "</div>"
      ],
      "text/plain": [
       "       chr     start       end TargetGene  TargetGeneTSS       class  \\\n",
       "1176  chr1  40848778  40849660     ZFP69B       40916147       genic   \n",
       "1177  chr1  41329180  41330160     ZFP69B       40916147  intergenic   \n",
       "\n",
       "      hic.distance.adj  activity_base  ABC.Score  \n",
       "1176            9.9869        31.4766     0.0443  \n",
       "1177            7.9782        25.0622     0.0282  "
      ]
     },
     "execution_count": 17,
     "metadata": {},
     "output_type": "execute_result"
    }
   ],
   "source": [
    "data_6.loc[data_6['TargetGene']==unique_genes_1[300]]"
   ]
  },
  {
   "cell_type": "markdown",
   "metadata": {},
   "source": [
    "Genes that have vastly different enhancer regions - like S100PBP and LINC01128 for example\n",
    "\n",
    "For S100PBP,  my predictions would pick out more enhancer regions \n",
    "- Joseph ran the analysis & it picked out similar enhancer regions so the variation could be the result of me picking out isoforms based on the smallest ID number as mentioned above (*see attached image.png) "
   ]
  },
  {
   "cell_type": "code",
   "execution_count": 18,
   "metadata": {},
   "outputs": [
    {
     "data": {
      "text/html": [
       "<div>\n",
       "<style scoped>\n",
       "    .dataframe tbody tr th:only-of-type {\n",
       "        vertical-align: middle;\n",
       "    }\n",
       "\n",
       "    .dataframe tbody tr th {\n",
       "        vertical-align: top;\n",
       "    }\n",
       "\n",
       "    .dataframe thead th {\n",
       "        text-align: right;\n",
       "    }\n",
       "</style>\n",
       "<table border=\"1\" class=\"dataframe\">\n",
       "  <thead>\n",
       "    <tr style=\"text-align: right;\">\n",
       "      <th></th>\n",
       "      <th>chr</th>\n",
       "      <th>start</th>\n",
       "      <th>end</th>\n",
       "      <th>TargetGene</th>\n",
       "      <th>TargetGeneTSS</th>\n",
       "      <th>Normalized_HiC_Contacts</th>\n",
       "      <th>Activity</th>\n",
       "      <th>ABC_Score</th>\n",
       "    </tr>\n",
       "  </thead>\n",
       "  <tbody>\n",
       "    <tr>\n",
       "      <th>822</th>\n",
       "      <td>chr1</td>\n",
       "      <td>33279825.0</td>\n",
       "      <td>33281625.0</td>\n",
       "      <td>S100PBP</td>\n",
       "      <td>33290913.0</td>\n",
       "      <td>41.2847</td>\n",
       "      <td>7.3393</td>\n",
       "      <td>0.0543</td>\n",
       "    </tr>\n",
       "  </tbody>\n",
       "</table>\n",
       "</div>"
      ],
      "text/plain": [
       "      chr       start         end TargetGene  TargetGeneTSS  \\\n",
       "822  chr1  33279825.0  33281625.0    S100PBP     33290913.0   \n",
       "\n",
       "     Normalized_HiC_Contacts  Activity  ABC_Score  \n",
       "822                  41.2847    7.3393     0.0543  "
      ]
     },
     "execution_count": 18,
     "metadata": {},
     "output_type": "execute_result"
    }
   ],
   "source": [
    "ac_data.loc[(ac_data['TargetGene']=='S100PBP')]"
   ]
  },
  {
   "cell_type": "code",
   "execution_count": 19,
   "metadata": {},
   "outputs": [
    {
     "data": {
      "text/html": [
       "<div>\n",
       "<style scoped>\n",
       "    .dataframe tbody tr th:only-of-type {\n",
       "        vertical-align: middle;\n",
       "    }\n",
       "\n",
       "    .dataframe tbody tr th {\n",
       "        vertical-align: top;\n",
       "    }\n",
       "\n",
       "    .dataframe thead th {\n",
       "        text-align: right;\n",
       "    }\n",
       "</style>\n",
       "<table border=\"1\" class=\"dataframe\">\n",
       "  <thead>\n",
       "    <tr style=\"text-align: right;\">\n",
       "      <th></th>\n",
       "      <th>chr</th>\n",
       "      <th>start</th>\n",
       "      <th>end</th>\n",
       "      <th>TargetGene</th>\n",
       "      <th>TargetGeneTSS</th>\n",
       "      <th>class</th>\n",
       "      <th>hic.distance.adj</th>\n",
       "      <th>activity_base</th>\n",
       "      <th>ABC.Score</th>\n",
       "    </tr>\n",
       "  </thead>\n",
       "  <tbody>\n",
       "    <tr>\n",
       "      <th>994</th>\n",
       "      <td>chr1</td>\n",
       "      <td>33280280</td>\n",
       "      <td>33280780</td>\n",
       "      <td>S100PBP</td>\n",
       "      <td>33283042</td>\n",
       "      <td>genic</td>\n",
       "      <td>100.0</td>\n",
       "      <td>2.9175</td>\n",
       "      <td>0.0378</td>\n",
       "    </tr>\n",
       "    <tr>\n",
       "      <th>995</th>\n",
       "      <td>chr1</td>\n",
       "      <td>33279760</td>\n",
       "      <td>33280260</td>\n",
       "      <td>S100PBP</td>\n",
       "      <td>33283042</td>\n",
       "      <td>genic</td>\n",
       "      <td>100.0</td>\n",
       "      <td>2.8076</td>\n",
       "      <td>0.0364</td>\n",
       "    </tr>\n",
       "    <tr>\n",
       "      <th>996</th>\n",
       "      <td>chr1</td>\n",
       "      <td>33284380</td>\n",
       "      <td>33284880</td>\n",
       "      <td>S100PBP</td>\n",
       "      <td>33283042</td>\n",
       "      <td>genic</td>\n",
       "      <td>100.0</td>\n",
       "      <td>1.9238</td>\n",
       "      <td>0.0249</td>\n",
       "    </tr>\n",
       "  </tbody>\n",
       "</table>\n",
       "</div>"
      ],
      "text/plain": [
       "      chr     start       end TargetGene  TargetGeneTSS  class  \\\n",
       "994  chr1  33280280  33280780    S100PBP       33283042  genic   \n",
       "995  chr1  33279760  33280260    S100PBP       33283042  genic   \n",
       "996  chr1  33284380  33284880    S100PBP       33283042  genic   \n",
       "\n",
       "     hic.distance.adj  activity_base  ABC.Score  \n",
       "994             100.0         2.9175     0.0378  \n",
       "995             100.0         2.8076     0.0364  \n",
       "996             100.0         1.9238     0.0249  "
      ]
     },
     "execution_count": 19,
     "metadata": {},
     "output_type": "execute_result"
    }
   ],
   "source": [
    "data_6.loc[data_6['TargetGene']=='S100PBP']"
   ]
  },
  {
   "attachments": {},
   "cell_type": "markdown",
   "metadata": {},
   "source": [
    "For LINC01128, \n",
    "\n",
    "Joseph ran the analysis and said he also got similar results, but the enhancer-regions that I got that didn't show up in the Table S6 results had scores below 0.02 and were omitted. \n",
    "\n",
    "It also seems like for LINC01128 though, the enhancer regions picked are so different. "
   ]
  },
  {
   "cell_type": "code",
   "execution_count": 20,
   "metadata": {},
   "outputs": [
    {
     "data": {
      "text/html": [
       "<div>\n",
       "<style scoped>\n",
       "    .dataframe tbody tr th:only-of-type {\n",
       "        vertical-align: middle;\n",
       "    }\n",
       "\n",
       "    .dataframe tbody tr th {\n",
       "        vertical-align: top;\n",
       "    }\n",
       "\n",
       "    .dataframe thead th {\n",
       "        text-align: right;\n",
       "    }\n",
       "</style>\n",
       "<table border=\"1\" class=\"dataframe\">\n",
       "  <thead>\n",
       "    <tr style=\"text-align: right;\">\n",
       "      <th></th>\n",
       "      <th>chr</th>\n",
       "      <th>start</th>\n",
       "      <th>end</th>\n",
       "      <th>TargetGene</th>\n",
       "      <th>TargetGeneTSS</th>\n",
       "      <th>Normalized_HiC_Contacts</th>\n",
       "      <th>Activity</th>\n",
       "      <th>ABC_Score</th>\n",
       "    </tr>\n",
       "  </thead>\n",
       "  <tbody>\n",
       "    <tr>\n",
       "      <th>4</th>\n",
       "      <td>chr1</td>\n",
       "      <td>761105.0</td>\n",
       "      <td>761605.0</td>\n",
       "      <td>LINC01128</td>\n",
       "      <td>762970.0</td>\n",
       "      <td>100.0</td>\n",
       "      <td>0.4501</td>\n",
       "      <td>0.0287</td>\n",
       "    </tr>\n",
       "  </tbody>\n",
       "</table>\n",
       "</div>"
      ],
      "text/plain": [
       "    chr     start       end TargetGene  TargetGeneTSS  \\\n",
       "4  chr1  761105.0  761605.0  LINC01128       762970.0   \n",
       "\n",
       "   Normalized_HiC_Contacts  Activity  ABC_Score  \n",
       "4                    100.0    0.4501     0.0287  "
      ]
     },
     "execution_count": 20,
     "metadata": {},
     "output_type": "execute_result"
    }
   ],
   "source": [
    "ac_data.loc[(ac_data['TargetGene']=='LINC01128')]"
   ]
  },
  {
   "cell_type": "code",
   "execution_count": 21,
   "metadata": {},
   "outputs": [
    {
     "data": {
      "text/html": [
       "<div>\n",
       "<style scoped>\n",
       "    .dataframe tbody tr th:only-of-type {\n",
       "        vertical-align: middle;\n",
       "    }\n",
       "\n",
       "    .dataframe tbody tr th {\n",
       "        vertical-align: top;\n",
       "    }\n",
       "\n",
       "    .dataframe thead th {\n",
       "        text-align: right;\n",
       "    }\n",
       "</style>\n",
       "<table border=\"1\" class=\"dataframe\">\n",
       "  <thead>\n",
       "    <tr style=\"text-align: right;\">\n",
       "      <th></th>\n",
       "      <th>chr</th>\n",
       "      <th>start</th>\n",
       "      <th>end</th>\n",
       "      <th>TargetGene</th>\n",
       "      <th>TargetGeneTSS</th>\n",
       "      <th>class</th>\n",
       "      <th>hic.distance.adj</th>\n",
       "      <th>activity_base</th>\n",
       "      <th>ABC.Score</th>\n",
       "    </tr>\n",
       "  </thead>\n",
       "  <tbody>\n",
       "    <tr>\n",
       "      <th>7</th>\n",
       "      <td>chr1</td>\n",
       "      <td>1283240</td>\n",
       "      <td>1283780</td>\n",
       "      <td>LINC01128</td>\n",
       "      <td>762970</td>\n",
       "      <td>genic</td>\n",
       "      <td>8.0552</td>\n",
       "      <td>3.9409</td>\n",
       "      <td>0.0225</td>\n",
       "    </tr>\n",
       "    <tr>\n",
       "      <th>8</th>\n",
       "      <td>chr1</td>\n",
       "      <td>999120</td>\n",
       "      <td>1000000</td>\n",
       "      <td>LINC01128</td>\n",
       "      <td>762970</td>\n",
       "      <td>genic</td>\n",
       "      <td>5.3262</td>\n",
       "      <td>8.0474</td>\n",
       "      <td>0.0304</td>\n",
       "    </tr>\n",
       "    <tr>\n",
       "      <th>9</th>\n",
       "      <td>chr1</td>\n",
       "      <td>937080</td>\n",
       "      <td>937580</td>\n",
       "      <td>LINC01128</td>\n",
       "      <td>762970</td>\n",
       "      <td>intergenic</td>\n",
       "      <td>16.5575</td>\n",
       "      <td>2.2449</td>\n",
       "      <td>0.0263</td>\n",
       "    </tr>\n",
       "    <tr>\n",
       "      <th>10</th>\n",
       "      <td>chr1</td>\n",
       "      <td>1240860</td>\n",
       "      <td>1241860</td>\n",
       "      <td>LINC01128</td>\n",
       "      <td>762970</td>\n",
       "      <td>genic</td>\n",
       "      <td>4.3200</td>\n",
       "      <td>8.4652</td>\n",
       "      <td>0.0259</td>\n",
       "    </tr>\n",
       "  </tbody>\n",
       "</table>\n",
       "</div>"
      ],
      "text/plain": [
       "     chr    start      end TargetGene  TargetGeneTSS       class  \\\n",
       "7   chr1  1283240  1283780  LINC01128         762970       genic   \n",
       "8   chr1   999120  1000000  LINC01128         762970       genic   \n",
       "9   chr1   937080   937580  LINC01128         762970  intergenic   \n",
       "10  chr1  1240860  1241860  LINC01128         762970       genic   \n",
       "\n",
       "    hic.distance.adj  activity_base  ABC.Score  \n",
       "7             8.0552         3.9409     0.0225  \n",
       "8             5.3262         8.0474     0.0304  \n",
       "9            16.5575         2.2449     0.0263  \n",
       "10            4.3200         8.4652     0.0259  "
      ]
     },
     "execution_count": 21,
     "metadata": {},
     "output_type": "execute_result"
    }
   ],
   "source": [
    "data_6.loc[data_6['TargetGene']=='LINC01128']"
   ]
  },
  {
   "cell_type": "markdown",
   "metadata": {},
   "source": [
    "Looking at Mean and Stdev across all examples"
   ]
  },
  {
   "cell_type": "code",
   "execution_count": 12,
   "metadata": {},
   "outputs": [
    {
     "name": "stdout",
     "output_type": "stream",
     "text": [
      "   Jesse_mean  Jesse_stddev     mean    stddev\n",
      "0     0.05514      0.042203  0.05315  0.043699\n"
     ]
    }
   ],
   "source": [
    "ac_mean = np.mean(ac_data['ABC_Score'])\n",
    "ac_stddev = np.std(ac_data['ABC_Score'])\n",
    "mean_6 = np.mean(data_6['ABC.Score'])\n",
    "stddev_6 = np.std(data_6['ABC.Score'])\n",
    "results = {'Jesse_mean': ac_mean, 'Jesse_stddev': ac_stddev, 'mean': mean_6, 'stddev': stddev_6 }\n",
    "results = pd.DataFrame(results, index=[0])\n",
    "print(results)"
   ]
  },
  {
   "cell_type": "markdown",
   "metadata": {},
   "source": [
    "Comparing between ABC scores and differences in ABC scores \n",
    "I wanted to see the distribution of differences between Jesse's and my ABC scores"
   ]
  },
  {
   "cell_type": "code",
   "execution_count": 25,
   "metadata": {},
   "outputs": [],
   "source": [
    "import numpy as np\n",
    "genes_not_compared=[]\n",
    "difference=[]\n",
    "diff_hic=[]\n",
    "diff_activity=[]\n",
    "actual_scores_total = []\n",
    "my_scores=[]\n",
    "gene=[]\n",
    "gene_tss=[]\n",
    "for i in unique_genes['TargetGene']: \n",
    "    ac_match = ac_data.loc[(ac_data['TargetGene']==i)]\n",
    "    match = data_6.loc[data_6['TargetGene']==i]\n",
    "    if len(ac_match)==len(match): \n",
    "        gene.append([i] *len(ac_match))\n",
    "        gene_tss.append(match['TargetGeneTSS'] *len(ac_match))\n",
    "        ac_score = np.sort(ac_match['ABC_Score'])\n",
    "        actual_scores_total.append(ac_score)\n",
    "        score = np.sort(match['ABC.Score'])\n",
    "        my_scores.append(score)\n",
    "        ac_hic_distance = np.sort(ac_match['Normalized_HiC_Contacts'])\n",
    "        hic_distance = np.sort(match['hic.distance.adj'])\n",
    "        ac_ac_base = np.sort(ac_match['Activity'])\n",
    "        ac_base = np.sort(match['activity_base'])\n",
    "        diff1 = ac_hic_distance-hic_distance\n",
    "    #print(diff1)\n",
    "        diff2 = ac_ac_base - ac_base\n",
    "    #print(diff2)\n",
    "        diff_hic.append(diff1)\n",
    "        diff_activity.append(diff2) \n",
    "    elif len(match) & len(ac_match)!= None:\n",
    "        if len(match) < len(ac_match):\n",
    "            ac_match = ac_match[:len(match)]\n",
    "            \n",
    "        else: \n",
    "            match = match[:len(ac_match)]\n",
    "        score = np.sort(match['ABC.Score'])\n",
    "        my_scores.append(score)\n",
    "        ac_score = np.sort(ac_match['ABC_Score'])\n",
    "        actual_scores_total.append(ac_score)\n",
    "        ac_hic_distance = np.sort(ac_match['Normalized_HiC_Contacts'])\n",
    "        hic_distance = np.sort(match['hic.distance.adj'])\n",
    "        ac_ac_base = np.sort(ac_match['Activity'])\n",
    "        ac_base = np.sort(match['activity_base'])\n",
    "    else: \n",
    "        genes_not_compared.append(i)"
   ]
  },
  {
   "cell_type": "code",
   "execution_count": 26,
   "metadata": {},
   "outputs": [],
   "source": [
    "actual_scores = [i for sublist in actual_scores_total for i in sublist]\n",
    "scores = [i for sublist in my_scores for i in sublist]"
   ]
  },
  {
   "cell_type": "code",
   "execution_count": 27,
   "metadata": {},
   "outputs": [
    {
     "name": "stdout",
     "output_type": "stream",
     "text": [
      "28172\n",
      "28172\n",
      "0\n"
     ]
    }
   ],
   "source": [
    "print(len(actual_scores))\n",
    "print(len(scores))\n",
    "print(len(genes_not_compared))"
   ]
  },
  {
   "cell_type": "markdown",
   "metadata": {},
   "source": [
    "# Correlation Graph between K_ABC Scores and J_ABC Scores "
   ]
  },
  {
   "cell_type": "code",
   "execution_count": 45,
   "metadata": {},
   "outputs": [],
   "source": [
    "# plot on WashU \n",
    "\n",
    "x=actual_scores\n",
    "y=scores\n",
    "#plt.xscale('log')\n",
    "#plt.yscale('log')"
   ]
  },
  {
   "cell_type": "code",
   "execution_count": 34,
   "metadata": {},
   "outputs": [],
   "source": [
    "import numpy as np \n",
    "import matplotlib.pyplot as plt \n",
    "import scipy.stats as st \n",
    "\n",
    "# Eval gaussian kde on regular grid of nbins * nbins over data\n",
    "nbins = 400\n",
    "actual_scores_1 = np.asarray(actual_scores)\n",
    "scores_1 = np.asarray(scores)\n",
    "\n",
    "\n",
    "k = st.gaussian_kde([actual_scores_1, scores_1])\n",
    "xi, yi = np.mgrid[actual_scores_1.min():actual_scores_1.max():nbins*1j, scores_1.min():scores_1.max():nbins*1j]\n",
    "zi = k(np.vstack([xi.flatten(), yi.flatten()]))\n"
   ]
  },
  {
   "cell_type": "code",
   "execution_count": 46,
   "metadata": {},
   "outputs": [
    {
     "data": {
      "text/plain": [
       "[<matplotlib.lines.Line2D at 0x1a31a0cda0>]"
      ]
     },
     "execution_count": 46,
     "metadata": {},
     "output_type": "execute_result"
    },
    {
     "data": {
      "image/png": "[encoded data removed]",
      "text/plain": [
       "<Figure size 432x288 with 1 Axes>"
      ]
     },
     "metadata": {},
     "output_type": "display_data"
    }
   ],
   "source": [
    "\n",
    "plt.xlabel('K_ABC Score')\n",
    "plt.ylabel('ABC Score')\n",
    "plt.title('Scatterplot')\n",
    "plt.plot(x, y, 'ro')"
   ]
  },
  {
   "cell_type": "code",
   "execution_count": 47,
   "metadata": {},
   "outputs": [
    {
     "data": {
      "image/png": "[encoded data removed]",
      "text/plain": [
       "<Figure size 432x288 with 2 Axes>"
      ]
     },
     "metadata": {},
     "output_type": "display_data"
    }
   ],
   "source": [
    "# Make plot \n",
    "fig, axes = plt.subplots(ncols=2, nrows=1, sharex=True, sharey=True)\n",
    "#plt.scatter(actual_scores, scores, s=6)\n",
    "plt.xlabel('K_ABC Score')\n",
    "plt.ylabel('ABC Score')\n",
    "nbins=30\n",
    "\n",
    "axes[0].set_title('Hexbin plot')\n",
    "axes[0].hexbin(x, y, gridsize=nbins, bins='log',xscale='log', yscale='log')\n",
    "axes[1].set_title('Gaussian Kernel Density Estimation')\n",
    "axes[1].pcolormesh(xi,yi,zi.reshape(xi.shape), vmin=0, vmax=1)\n",
    "fig.tight_layout()"
   ]
  },
  {
   "cell_type": "code",
   "execution_count": 339,
   "metadata": {},
   "outputs": [
    {
     "name": "stdout",
     "output_type": "stream",
     "text": [
      "Pearson_correlation: (0.7574690672863612, 0.0)\n",
      "Spearman_correlation: SpearmanrResult(correlation=0.7523188523031518, pvalue=0.0)\n"
     ]
    }
   ],
   "source": [
    "import scipy.stats\n",
    "\n",
    "print(\"Pearson_correlation: {}\".format(scipy.stats.pearsonr(actual_scores_1, scores_1)))\n",
    "print(\"Spearman_correlation: {}\".format(scipy.stats.spearmanr(actual_scores_1,scores_1)))"
   ]
  },
  {
   "cell_type": "markdown",
   "metadata": {},
   "source": [
    "## Histogram plots of differences "
   ]
  },
  {
   "cell_type": "code",
   "execution_count": 260,
   "metadata": {},
   "outputs": [
    {
     "data": {
      "text/plain": [
       "(array([  57.,   68.,   64.,   76.,   78.,   83.,   84.,  116.,  105.,\n",
       "          86.,  120.,  168.,  143.,  175.,  198.,  184.,  267.,  301.,\n",
       "         298.,  375.,  376.,  438.,  510.,  646.,  806.,  884., 1067.,\n",
       "        1173., 1339., 1469., 1561., 1520., 1422., 1189.,  934.,  841.,\n",
       "         744.,  618.,  520.,  446.,  378.,  326.,  313.,  291.,  257.,\n",
       "         221.,  198.,  185.,  157.,  148.,  135.,  107.,  117.,  117.,\n",
       "         109.,  103.,   93.,   87.,   77.]),\n",
       " array([-3.00000000e-02, -2.90000000e-02, -2.80000000e-02, -2.70000000e-02,\n",
       "        -2.60000000e-02, -2.50000000e-02, -2.40000000e-02, -2.30000000e-02,\n",
       "        -2.20000000e-02, -2.10000000e-02, -2.00000000e-02, -1.90000000e-02,\n",
       "        -1.80000000e-02, -1.70000000e-02, -1.60000000e-02, -1.50000000e-02,\n",
       "        -1.40000000e-02, -1.30000000e-02, -1.20000000e-02, -1.10000000e-02,\n",
       "        -1.00000000e-02, -9.00000000e-03, -8.00000000e-03, -7.00000000e-03,\n",
       "        -6.00000000e-03, -5.00000000e-03, -4.00000000e-03, -3.00000000e-03,\n",
       "        -2.00000000e-03, -1.00000000e-03,  2.77555756e-17,  1.00000000e-03,\n",
       "         2.00000000e-03,  3.00000000e-03,  4.00000000e-03,  5.00000000e-03,\n",
       "         6.00000000e-03,  7.00000000e-03,  8.00000000e-03,  9.00000000e-03,\n",
       "         1.00000000e-02,  1.10000000e-02,  1.20000000e-02,  1.30000000e-02,\n",
       "         1.40000000e-02,  1.50000000e-02,  1.60000000e-02,  1.70000000e-02,\n",
       "         1.80000000e-02,  1.90000000e-02,  2.00000000e-02,  2.10000000e-02,\n",
       "         2.20000000e-02,  2.30000000e-02,  2.40000000e-02,  2.50000000e-02,\n",
       "         2.60000000e-02,  2.70000000e-02,  2.80000000e-02,  2.90000000e-02]),\n",
       " <a list of 59 Patch objects>)"
      ]
     },
     "execution_count": 260,
     "metadata": {},
     "output_type": "execute_result"
    },
    {
     "data": {
      "image/png": "[encoded data removed]",
      "text/plain": [
       "<Figure size 432x288 with 1 Axes>"
      ]
     },
     "metadata": {},
     "output_type": "display_data"
    }
   ],
   "source": [
    "from matplotlib import pyplot as plt\n",
    "import numpy as np\n",
    "\n",
    "differences = np.array(actual_scores) - np.array(scores)\n",
    "plt.hist(differences, bins=np.arange(-0.03,0.03, 0.001))"
   ]
  },
  {
   "cell_type": "markdown",
   "metadata": {},
   "source": [
    "## Histogram of absolute differences"
   ]
  },
  {
   "cell_type": "code",
   "execution_count": 262,
   "metadata": {},
   "outputs": [
    {
     "data": {
      "text/plain": [
       "(array([2926., 2912., 2649., 2220., 1846., 1667., 1406., 1053.,  976.,\n",
       "         837.,  758.,  627.,  619.,  557.,  417.,  413.,  395.,  326.,\n",
       "         330.,  264.,  223.,  205.,  240.,  198.,  194.,  181.,  174.,\n",
       "         146.,  145.,  132.,  119.,  119.,   97.,  103.,   77.,   80.,\n",
       "          81.,   80.,   78.,   64.,   84.,   77.,   70.,   48.,   57.,\n",
       "          64.,   66.,   56.,   49.,   56.,   49.,   43.,   50.,   40.,\n",
       "          32.,   36.,   33.,   33.,   28.,   26.,   40.,   25.,   34.,\n",
       "          26.,   25.,   28.,   21.,   22.,   22.,   29.,   23.,   21.,\n",
       "          18.,   25.,   23.,   17.,    9.,   23.,   19.,   11.,   18.,\n",
       "          19.,   20.,   13.,   16.,   10.,   16.,    9.,   13.,   19.,\n",
       "          12.,    9.,   12.,   15.,   12.,   12.,   16.,   11.,    9.]),\n",
       " array([0.   , 0.001, 0.002, 0.003, 0.004, 0.005, 0.006, 0.007, 0.008,\n",
       "        0.009, 0.01 , 0.011, 0.012, 0.013, 0.014, 0.015, 0.016, 0.017,\n",
       "        0.018, 0.019, 0.02 , 0.021, 0.022, 0.023, 0.024, 0.025, 0.026,\n",
       "        0.027, 0.028, 0.029, 0.03 , 0.031, 0.032, 0.033, 0.034, 0.035,\n",
       "        0.036, 0.037, 0.038, 0.039, 0.04 , 0.041, 0.042, 0.043, 0.044,\n",
       "        0.045, 0.046, 0.047, 0.048, 0.049, 0.05 , 0.051, 0.052, 0.053,\n",
       "        0.054, 0.055, 0.056, 0.057, 0.058, 0.059, 0.06 , 0.061, 0.062,\n",
       "        0.063, 0.064, 0.065, 0.066, 0.067, 0.068, 0.069, 0.07 , 0.071,\n",
       "        0.072, 0.073, 0.074, 0.075, 0.076, 0.077, 0.078, 0.079, 0.08 ,\n",
       "        0.081, 0.082, 0.083, 0.084, 0.085, 0.086, 0.087, 0.088, 0.089,\n",
       "        0.09 , 0.091, 0.092, 0.093, 0.094, 0.095, 0.096, 0.097, 0.098,\n",
       "        0.099]),\n",
       " <a list of 99 Patch objects>)"
      ]
     },
     "execution_count": 262,
     "metadata": {},
     "output_type": "execute_result"
    },
    {
     "data": {
      "image/png": "[encoded data removed]",
      "text/plain": [
       "<Figure size 432x288 with 1 Axes>"
      ]
     },
     "metadata": {},
     "output_type": "display_data"
    }
   ],
   "source": [
    "plt.hist(abs(differences), bins=np.arange(0,0.1, 0.001))"
   ]
  },
  {
   "cell_type": "markdown",
   "metadata": {},
   "source": [
    "Mean and standard deviation of differences"
   ]
  },
  {
   "cell_type": "code",
   "execution_count": 261,
   "metadata": {},
   "outputs": [
    {
     "name": "stdout",
     "output_type": "stream",
     "text": [
      "0.0009285993184722421\n",
      "0.029954465637464657\n"
     ]
    }
   ],
   "source": [
    "print(abs(np.mean(differences)))\n",
    "print(np.std(differences))"
   ]
  },
  {
   "cell_type": "code",
   "execution_count": 263,
   "metadata": {},
   "outputs": [
    {
     "data": {
      "text/plain": [
       "847"
      ]
     },
     "execution_count": 263,
     "metadata": {},
     "output_type": "execute_result"
    }
   ],
   "source": [
    "# number of genes with differences that are greater than 0.05\n",
    "# total number of scores being compared is 28172\n",
    "(differences>0.05).sum()"
   ]
  },
  {
   "cell_type": "code",
   "execution_count": 173,
   "metadata": {},
   "outputs": [],
   "source": [
    "item_index = np.where(differences>0.05)"
   ]
  },
  {
   "cell_type": "markdown",
   "metadata": {},
   "source": [
    "## Exploring these differences \n",
    "what is driving this? "
   ]
  },
  {
   "cell_type": "code",
   "execution_count": 223,
   "metadata": {},
   "outputs": [
    {
     "name": "stdout",
     "output_type": "stream",
     "text": [
      "3133\n",
      "3133\n"
     ]
    }
   ],
   "source": [
    "diff_ac = [i for sublist in diff_activity for i in sublist]\n",
    "hic_a = [i for sublist in diff_hic for i in sublist]\n",
    "print(len(gene))\n",
    "gene_a = [i for sublist in gene for i in sublist]\n",
    "print(len(gene_tss))\n",
    "tss_a = [i for sublist in gene_tss for i in sublist]"
   ]
  },
  {
   "cell_type": "code",
   "execution_count": 224,
   "metadata": {},
   "outputs": [],
   "source": [
    "hic=[]\n",
    "activity=[]\n",
    "diff_a=[]\n",
    "gene_tss_a=[]\n",
    "gene_name_a=[]\n",
    "\n",
    "for i in item_index[0]:\n",
    "    gene_tss_a.append(tss_a[i])\n",
    "    gene_name_a.append(gene_a[i])\n",
    "    hic.append(hic_a[i])\n",
    "    activity.append(diff_ac[i])\n",
    "    diff_a.append(differences[i])"
   ]
  },
  {
   "cell_type": "markdown",
   "metadata": {},
   "source": [
    "Looked at the genes w/ the top five largest differences"
   ]
  },
  {
   "cell_type": "code",
   "execution_count": 266,
   "metadata": {},
   "outputs": [
    {
     "name": "stdout",
     "output_type": "stream",
     "text": [
      "      gene   gene_TSS  hic_diff  ac_diff  diff_in_score\n",
      "12   WDR37    2205550    0.0000 -25.2908        -0.3314\n",
      "11    IDI1    2205312    0.0000 -25.2908        -0.3314\n",
      "107  SLMAP  346457892  -84.3168   4.0010        -0.2968\n",
      "65   ALDOA   90227451    0.0000 -15.1983        -0.2780\n",
      "7    PRMT6  107599266    0.0000  -5.7227        -0.2718\n"
     ]
    }
   ],
   "source": [
    "# Where all the differences are calculated via Jesse's ABC_SCORE - K_ABC_SCORE\n",
    "# These are for the 847 differences, looking at the top 5 greatest differences\n",
    "\n",
    "diff_df = {'gene':gene_name_a, 'gene_TSS': gene_tss_a, 'hic_diff' : hic, 'ac_diff': activity, 'diff_in_score': diff_a}\n",
    "diff_df_2 = pd.DataFrame(diff_df)\n",
    "sorted_df = diff_df_2.sort_values(by=['diff_in_score'], ascending=True)\n",
    "print(sorted_df[:5])\n",
    "data_4 = pd.read_csv(\"../EnhancerPredictions/EnhancerPredictions_4May.txt\", sep='\\t')\n",
    "data_4_a = data_4.drop_duplicates(['chr', 'start', 'end', 'TargetGene', 'ABC.Score'])\n",
    "concerned_sections = data_4_a[['chr', 'start', 'end', 'TargetGene', 'TargetGeneTSS', 'hic.distance.adj', 'activity_base','ABC.Score']]"
   ]
  },
  {
   "cell_type": "code",
   "execution_count": 28,
   "metadata": {},
   "outputs": [
    {
     "data": {
      "text/html": [
       "<div>\n",
       "<style scoped>\n",
       "    .dataframe tbody tr th:only-of-type {\n",
       "        vertical-align: middle;\n",
       "    }\n",
       "\n",
       "    .dataframe tbody tr th {\n",
       "        vertical-align: top;\n",
       "    }\n",
       "\n",
       "    .dataframe thead th {\n",
       "        text-align: right;\n",
       "    }\n",
       "</style>\n",
       "<table border=\"1\" class=\"dataframe\">\n",
       "  <thead>\n",
       "    <tr style=\"text-align: right;\">\n",
       "      <th></th>\n",
       "      <th>chr</th>\n",
       "      <th>start</th>\n",
       "      <th>end</th>\n",
       "      <th>TargetGene</th>\n",
       "      <th>TargetGeneTSS</th>\n",
       "      <th>Normalized_HiC_Contacts</th>\n",
       "      <th>Activity</th>\n",
       "      <th>ABC_Score</th>\n",
       "    </tr>\n",
       "  </thead>\n",
       "  <tbody>\n",
       "    <tr>\n",
       "      <th>21845</th>\n",
       "      <td>chr3</td>\n",
       "      <td>58045225.0</td>\n",
       "      <td>58045765.0</td>\n",
       "      <td>SLMAP</td>\n",
       "      <td>57875640.0</td>\n",
       "      <td>13.1653</td>\n",
       "      <td>3.9599</td>\n",
       "      <td>0.0350</td>\n",
       "    </tr>\n",
       "    <tr>\n",
       "      <th>21846</th>\n",
       "      <td>chr3</td>\n",
       "      <td>58147385.0</td>\n",
       "      <td>58147905.0</td>\n",
       "      <td>SLMAP</td>\n",
       "      <td>57875640.0</td>\n",
       "      <td>4.7558</td>\n",
       "      <td>12.6859</td>\n",
       "      <td>0.0405</td>\n",
       "    </tr>\n",
       "    <tr>\n",
       "      <th>21847</th>\n",
       "      <td>chr3</td>\n",
       "      <td>57740885.0</td>\n",
       "      <td>57742145.0</td>\n",
       "      <td>SLMAP</td>\n",
       "      <td>57875640.0</td>\n",
       "      <td>3.6832</td>\n",
       "      <td>14.2817</td>\n",
       "      <td>0.0353</td>\n",
       "    </tr>\n",
       "    <tr>\n",
       "      <th>21848</th>\n",
       "      <td>chr3</td>\n",
       "      <td>57937145.0</td>\n",
       "      <td>57937665.0</td>\n",
       "      <td>SLMAP</td>\n",
       "      <td>57875640.0</td>\n",
       "      <td>15.6832</td>\n",
       "      <td>4.2632</td>\n",
       "      <td>0.0449</td>\n",
       "    </tr>\n",
       "    <tr>\n",
       "      <th>21849</th>\n",
       "      <td>chr3</td>\n",
       "      <td>57791385.0</td>\n",
       "      <td>57791885.0</td>\n",
       "      <td>SLMAP</td>\n",
       "      <td>57875640.0</td>\n",
       "      <td>13.3830</td>\n",
       "      <td>4.2804</td>\n",
       "      <td>0.0385</td>\n",
       "    </tr>\n",
       "    <tr>\n",
       "      <th>21850</th>\n",
       "      <td>chr3</td>\n",
       "      <td>57921165.0</td>\n",
       "      <td>57921665.0</td>\n",
       "      <td>SLMAP</td>\n",
       "      <td>57875640.0</td>\n",
       "      <td>15.0048</td>\n",
       "      <td>4.5058</td>\n",
       "      <td>0.0454</td>\n",
       "    </tr>\n",
       "  </tbody>\n",
       "</table>\n",
       "</div>"
      ],
      "text/plain": [
       "        chr       start         end TargetGene  TargetGeneTSS  \\\n",
       "21845  chr3  58045225.0  58045765.0      SLMAP     57875640.0   \n",
       "21846  chr3  58147385.0  58147905.0      SLMAP     57875640.0   \n",
       "21847  chr3  57740885.0  57742145.0      SLMAP     57875640.0   \n",
       "21848  chr3  57937145.0  57937665.0      SLMAP     57875640.0   \n",
       "21849  chr3  57791385.0  57791885.0      SLMAP     57875640.0   \n",
       "21850  chr3  57921165.0  57921665.0      SLMAP     57875640.0   \n",
       "\n",
       "       Normalized_HiC_Contacts  Activity  ABC_Score  \n",
       "21845                  13.1653    3.9599     0.0350  \n",
       "21846                   4.7558   12.6859     0.0405  \n",
       "21847                   3.6832   14.2817     0.0353  \n",
       "21848                  15.6832    4.2632     0.0449  \n",
       "21849                  13.3830    4.2804     0.0385  \n",
       "21850                  15.0048    4.5058     0.0454  "
      ]
     },
     "execution_count": 28,
     "metadata": {},
     "output_type": "execute_result"
    }
   ],
   "source": [
    "# Results from Jesse's Table S6\n",
    "ac_data.loc[(ac_data['TargetGene']=='SLMAP')]"
   ]
  },
  {
   "cell_type": "code",
   "execution_count": 288,
   "metadata": {},
   "outputs": [
    {
     "data": {
      "text/html": [
       "<div>\n",
       "<style scoped>\n",
       "    .dataframe tbody tr th:only-of-type {\n",
       "        vertical-align: middle;\n",
       "    }\n",
       "\n",
       "    .dataframe tbody tr th {\n",
       "        vertical-align: top;\n",
       "    }\n",
       "\n",
       "    .dataframe thead th {\n",
       "        text-align: right;\n",
       "    }\n",
       "</style>\n",
       "<table border=\"1\" class=\"dataframe\">\n",
       "  <thead>\n",
       "    <tr style=\"text-align: right;\">\n",
       "      <th></th>\n",
       "      <th>chr</th>\n",
       "      <th>start</th>\n",
       "      <th>end</th>\n",
       "      <th>TargetGene</th>\n",
       "      <th>TargetGeneTSS</th>\n",
       "      <th>class</th>\n",
       "      <th>hic.distance.adj</th>\n",
       "      <th>activity_base</th>\n",
       "      <th>ABC.Score</th>\n",
       "    </tr>\n",
       "  </thead>\n",
       "  <tbody>\n",
       "    <tr>\n",
       "      <th>7250</th>\n",
       "      <td>chr3</td>\n",
       "      <td>57790980</td>\n",
       "      <td>57791880</td>\n",
       "      <td>SLMAP</td>\n",
       "      <td>57742982</td>\n",
       "      <td>genic</td>\n",
       "      <td>19.0307</td>\n",
       "      <td>5.7783</td>\n",
       "      <td>0.0366</td>\n",
       "    </tr>\n",
       "    <tr>\n",
       "      <th>7251</th>\n",
       "      <td>chr3</td>\n",
       "      <td>57773900</td>\n",
       "      <td>57774420</td>\n",
       "      <td>SLMAP</td>\n",
       "      <td>57742982</td>\n",
       "      <td>genic</td>\n",
       "      <td>28.0834</td>\n",
       "      <td>4.4116</td>\n",
       "      <td>0.0412</td>\n",
       "    </tr>\n",
       "    <tr>\n",
       "      <th>7252</th>\n",
       "      <td>chr3</td>\n",
       "      <td>57740926</td>\n",
       "      <td>57741440</td>\n",
       "      <td>SLMAP</td>\n",
       "      <td>57742982</td>\n",
       "      <td>intergenic</td>\n",
       "      <td>100.0000</td>\n",
       "      <td>1.8783</td>\n",
       "      <td>0.0625</td>\n",
       "    </tr>\n",
       "    <tr>\n",
       "      <th>7253</th>\n",
       "      <td>chr3</td>\n",
       "      <td>57743680</td>\n",
       "      <td>57744195</td>\n",
       "      <td>SLMAP</td>\n",
       "      <td>57742982</td>\n",
       "      <td>genic</td>\n",
       "      <td>100.0000</td>\n",
       "      <td>0.9908</td>\n",
       "      <td>0.0330</td>\n",
       "    </tr>\n",
       "    <tr>\n",
       "      <th>7254</th>\n",
       "      <td>chr3</td>\n",
       "      <td>57739380</td>\n",
       "      <td>57739920</td>\n",
       "      <td>SLMAP</td>\n",
       "      <td>57742982</td>\n",
       "      <td>intergenic</td>\n",
       "      <td>91.5542</td>\n",
       "      <td>1.7429</td>\n",
       "      <td>0.0531</td>\n",
       "    </tr>\n",
       "    <tr>\n",
       "      <th>7255</th>\n",
       "      <td>chr3</td>\n",
       "      <td>57741660</td>\n",
       "      <td>57742160</td>\n",
       "      <td>SLMAP</td>\n",
       "      <td>57742982</td>\n",
       "      <td>intergenic</td>\n",
       "      <td>100.0000</td>\n",
       "      <td>10.2807</td>\n",
       "      <td>0.3422</td>\n",
       "    </tr>\n",
       "  </tbody>\n",
       "</table>\n",
       "</div>"
      ],
      "text/plain": [
       "       chr     start       end TargetGene  TargetGeneTSS       class  \\\n",
       "7250  chr3  57790980  57791880      SLMAP       57742982       genic   \n",
       "7251  chr3  57773900  57774420      SLMAP       57742982       genic   \n",
       "7252  chr3  57740926  57741440      SLMAP       57742982  intergenic   \n",
       "7253  chr3  57743680  57744195      SLMAP       57742982       genic   \n",
       "7254  chr3  57739380  57739920      SLMAP       57742982  intergenic   \n",
       "7255  chr3  57741660  57742160      SLMAP       57742982  intergenic   \n",
       "\n",
       "      hic.distance.adj  activity_base  ABC.Score  \n",
       "7250           19.0307         5.7783     0.0366  \n",
       "7251           28.0834         4.4116     0.0412  \n",
       "7252          100.0000         1.8783     0.0625  \n",
       "7253          100.0000         0.9908     0.0330  \n",
       "7254           91.5542         1.7429     0.0531  \n",
       "7255          100.0000        10.2807     0.3422  "
      ]
     },
     "execution_count": 288,
     "metadata": {},
     "output_type": "execute_result"
    }
   ],
   "source": [
    "# My scores \n",
    "data_6.loc[data_6['TargetGene']=='SLMAP']"
   ]
  },
  {
   "cell_type": "markdown",
   "metadata": {},
   "source": [
    "A lot of what drives the differences in HiC distance and activity is really dependent on the TargetGene's TSS\n",
    "given the ABC model's sensitivity to the Transcription start sites of the gene you feed it.\n",
    "\n",
    "For SLMAP, it seems like it was just a difference in the TargetGene TSS being chosen "
   ]
  },
  {
   "cell_type": "code",
   "execution_count": 283,
   "metadata": {},
   "outputs": [
    {
     "data": {
      "text/html": [
       "<div>\n",
       "<style scoped>\n",
       "    .dataframe tbody tr th:only-of-type {\n",
       "        vertical-align: middle;\n",
       "    }\n",
       "\n",
       "    .dataframe tbody tr th {\n",
       "        vertical-align: top;\n",
       "    }\n",
       "\n",
       "    .dataframe thead th {\n",
       "        text-align: right;\n",
       "    }\n",
       "</style>\n",
       "<table border=\"1\" class=\"dataframe\">\n",
       "  <thead>\n",
       "    <tr style=\"text-align: right;\">\n",
       "      <th></th>\n",
       "      <th>chr</th>\n",
       "      <th>start</th>\n",
       "      <th>end</th>\n",
       "      <th>TargetGene</th>\n",
       "      <th>TargetGeneTSS</th>\n",
       "      <th>hic.distance.adj</th>\n",
       "      <th>activity_base</th>\n",
       "      <th>ABC.Score</th>\n",
       "    </tr>\n",
       "  </thead>\n",
       "  <tbody>\n",
       "    <tr>\n",
       "      <th>28270</th>\n",
       "      <td>chr3</td>\n",
       "      <td>57790980</td>\n",
       "      <td>57791880</td>\n",
       "      <td>SLMAP</td>\n",
       "      <td>57742982</td>\n",
       "      <td>19.0307</td>\n",
       "      <td>5.7783</td>\n",
       "      <td>0.0366</td>\n",
       "    </tr>\n",
       "    <tr>\n",
       "      <th>28271</th>\n",
       "      <td>chr3</td>\n",
       "      <td>57773900</td>\n",
       "      <td>57774420</td>\n",
       "      <td>SLMAP</td>\n",
       "      <td>57742982</td>\n",
       "      <td>28.0834</td>\n",
       "      <td>4.4116</td>\n",
       "      <td>0.0412</td>\n",
       "    </tr>\n",
       "    <tr>\n",
       "      <th>28272</th>\n",
       "      <td>chr3</td>\n",
       "      <td>57740926</td>\n",
       "      <td>57741440</td>\n",
       "      <td>SLMAP</td>\n",
       "      <td>57742982</td>\n",
       "      <td>100.0000</td>\n",
       "      <td>1.8783</td>\n",
       "      <td>0.0625</td>\n",
       "    </tr>\n",
       "    <tr>\n",
       "      <th>28273</th>\n",
       "      <td>chr3</td>\n",
       "      <td>57743680</td>\n",
       "      <td>57744195</td>\n",
       "      <td>SLMAP</td>\n",
       "      <td>57742982</td>\n",
       "      <td>100.0000</td>\n",
       "      <td>0.9908</td>\n",
       "      <td>0.0330</td>\n",
       "    </tr>\n",
       "    <tr>\n",
       "      <th>28274</th>\n",
       "      <td>chr3</td>\n",
       "      <td>57739380</td>\n",
       "      <td>57739920</td>\n",
       "      <td>SLMAP</td>\n",
       "      <td>57742982</td>\n",
       "      <td>91.5542</td>\n",
       "      <td>1.7429</td>\n",
       "      <td>0.0531</td>\n",
       "    </tr>\n",
       "    <tr>\n",
       "      <th>28275</th>\n",
       "      <td>chr3</td>\n",
       "      <td>57741660</td>\n",
       "      <td>57742160</td>\n",
       "      <td>SLMAP</td>\n",
       "      <td>57742982</td>\n",
       "      <td>100.0000</td>\n",
       "      <td>10.2807</td>\n",
       "      <td>0.3422</td>\n",
       "    </tr>\n",
       "    <tr>\n",
       "      <th>28282</th>\n",
       "      <td>chr3</td>\n",
       "      <td>57790980</td>\n",
       "      <td>57791880</td>\n",
       "      <td>SLMAP</td>\n",
       "      <td>57875640</td>\n",
       "      <td>13.4523</td>\n",
       "      <td>5.7783</td>\n",
       "      <td>0.0532</td>\n",
       "    </tr>\n",
       "    <tr>\n",
       "      <th>28283</th>\n",
       "      <td>chr3</td>\n",
       "      <td>57773900</td>\n",
       "      <td>57774420</td>\n",
       "      <td>SLMAP</td>\n",
       "      <td>57875640</td>\n",
       "      <td>7.5219</td>\n",
       "      <td>4.4116</td>\n",
       "      <td>0.0227</td>\n",
       "    </tr>\n",
       "    <tr>\n",
       "      <th>28284</th>\n",
       "      <td>chr3</td>\n",
       "      <td>57921180</td>\n",
       "      <td>57921680</td>\n",
       "      <td>SLMAP</td>\n",
       "      <td>57875640</td>\n",
       "      <td>15.0741</td>\n",
       "      <td>4.5487</td>\n",
       "      <td>0.0469</td>\n",
       "    </tr>\n",
       "    <tr>\n",
       "      <th>28285</th>\n",
       "      <td>chr3</td>\n",
       "      <td>58045240</td>\n",
       "      <td>58045767</td>\n",
       "      <td>SLMAP</td>\n",
       "      <td>57875640</td>\n",
       "      <td>13.2346</td>\n",
       "      <td>4.4989</td>\n",
       "      <td>0.0407</td>\n",
       "    </tr>\n",
       "    <tr>\n",
       "      <th>28286</th>\n",
       "      <td>chr3</td>\n",
       "      <td>57937120</td>\n",
       "      <td>57937620</td>\n",
       "      <td>SLMAP</td>\n",
       "      <td>57875640</td>\n",
       "      <td>15.7525</td>\n",
       "      <td>4.5810</td>\n",
       "      <td>0.0493</td>\n",
       "    </tr>\n",
       "    <tr>\n",
       "      <th>28287</th>\n",
       "      <td>chr3</td>\n",
       "      <td>58147400</td>\n",
       "      <td>58147920</td>\n",
       "      <td>SLMAP</td>\n",
       "      <td>57875640</td>\n",
       "      <td>4.8251</td>\n",
       "      <td>11.8793</td>\n",
       "      <td>0.0392</td>\n",
       "    </tr>\n",
       "    <tr>\n",
       "      <th>28288</th>\n",
       "      <td>chr3</td>\n",
       "      <td>57741660</td>\n",
       "      <td>57742160</td>\n",
       "      <td>SLMAP</td>\n",
       "      <td>57875640</td>\n",
       "      <td>3.7525</td>\n",
       "      <td>10.2807</td>\n",
       "      <td>0.0264</td>\n",
       "    </tr>\n",
       "  </tbody>\n",
       "</table>\n",
       "</div>"
      ],
      "text/plain": [
       "        chr     start       end TargetGene  TargetGeneTSS  hic.distance.adj  \\\n",
       "28270  chr3  57790980  57791880      SLMAP       57742982           19.0307   \n",
       "28271  chr3  57773900  57774420      SLMAP       57742982           28.0834   \n",
       "28272  chr3  57740926  57741440      SLMAP       57742982          100.0000   \n",
       "28273  chr3  57743680  57744195      SLMAP       57742982          100.0000   \n",
       "28274  chr3  57739380  57739920      SLMAP       57742982           91.5542   \n",
       "28275  chr3  57741660  57742160      SLMAP       57742982          100.0000   \n",
       "28282  chr3  57790980  57791880      SLMAP       57875640           13.4523   \n",
       "28283  chr3  57773900  57774420      SLMAP       57875640            7.5219   \n",
       "28284  chr3  57921180  57921680      SLMAP       57875640           15.0741   \n",
       "28285  chr3  58045240  58045767      SLMAP       57875640           13.2346   \n",
       "28286  chr3  57937120  57937620      SLMAP       57875640           15.7525   \n",
       "28287  chr3  58147400  58147920      SLMAP       57875640            4.8251   \n",
       "28288  chr3  57741660  57742160      SLMAP       57875640            3.7525   \n",
       "\n",
       "       activity_base  ABC.Score  \n",
       "28270         5.7783     0.0366  \n",
       "28271         4.4116     0.0412  \n",
       "28272         1.8783     0.0625  \n",
       "28273         0.9908     0.0330  \n",
       "28274         1.7429     0.0531  \n",
       "28275        10.2807     0.3422  \n",
       "28282         5.7783     0.0532  \n",
       "28283         4.4116     0.0227  \n",
       "28284         4.5487     0.0469  \n",
       "28285         4.4989     0.0407  \n",
       "28286         4.5810     0.0493  \n",
       "28287        11.8793     0.0392  \n",
       "28288        10.2807     0.0264  "
      ]
     },
     "execution_count": 283,
     "metadata": {},
     "output_type": "execute_result"
    }
   ],
   "source": [
    "# My previous scores not excluding isoforms of genes \n",
    "concerned_sections.loc[concerned_sections['TargetGene']=='SLMAP']"
   ]
  },
  {
   "cell_type": "markdown",
   "metadata": {},
   "source": [
    "For other genes, like WDR37 and PRMT6 , there is a big difference in scores and enhancer regions! "
   ]
  },
  {
   "cell_type": "code",
   "execution_count": 29,
   "metadata": {},
   "outputs": [
    {
     "data": {
      "text/html": [
       "<div>\n",
       "<style scoped>\n",
       "    .dataframe tbody tr th:only-of-type {\n",
       "        vertical-align: middle;\n",
       "    }\n",
       "\n",
       "    .dataframe tbody tr th {\n",
       "        vertical-align: top;\n",
       "    }\n",
       "\n",
       "    .dataframe thead th {\n",
       "        text-align: right;\n",
       "    }\n",
       "</style>\n",
       "<table border=\"1\" class=\"dataframe\">\n",
       "  <thead>\n",
       "    <tr style=\"text-align: right;\">\n",
       "      <th></th>\n",
       "      <th>chr</th>\n",
       "      <th>start</th>\n",
       "      <th>end</th>\n",
       "      <th>TargetGene</th>\n",
       "      <th>TargetGeneTSS</th>\n",
       "      <th>Normalized_HiC_Contacts</th>\n",
       "      <th>Activity</th>\n",
       "      <th>ABC_Score</th>\n",
       "    </tr>\n",
       "  </thead>\n",
       "  <tbody>\n",
       "    <tr>\n",
       "      <th>3101</th>\n",
       "      <td>chr10</td>\n",
       "      <td>1095985.0</td>\n",
       "      <td>1096485.0</td>\n",
       "      <td>WDR37</td>\n",
       "      <td>1102775.0</td>\n",
       "      <td>100.0</td>\n",
       "      <td>1.5003</td>\n",
       "      <td>0.0378</td>\n",
       "    </tr>\n",
       "    <tr>\n",
       "      <th>3102</th>\n",
       "      <td>chr10</td>\n",
       "      <td>1103885.0</td>\n",
       "      <td>1104465.0</td>\n",
       "      <td>WDR37</td>\n",
       "      <td>1102775.0</td>\n",
       "      <td>100.0</td>\n",
       "      <td>1.2096</td>\n",
       "      <td>0.0305</td>\n",
       "    </tr>\n",
       "  </tbody>\n",
       "</table>\n",
       "</div>"
      ],
      "text/plain": [
       "        chr      start        end TargetGene  TargetGeneTSS  \\\n",
       "3101  chr10  1095985.0  1096485.0      WDR37      1102775.0   \n",
       "3102  chr10  1103885.0  1104465.0      WDR37      1102775.0   \n",
       "\n",
       "      Normalized_HiC_Contacts  Activity  ABC_Score  \n",
       "3101                    100.0    1.5003     0.0378  \n",
       "3102                    100.0    1.2096     0.0305  "
      ]
     },
     "execution_count": 29,
     "metadata": {},
     "output_type": "execute_result"
    }
   ],
   "source": [
    "ac_data.loc[(ac_data['TargetGene']=='WDR37')]"
   ]
  },
  {
   "cell_type": "code",
   "execution_count": 297,
   "metadata": {},
   "outputs": [
    {
     "data": {
      "text/html": [
       "<div>\n",
       "<style scoped>\n",
       "    .dataframe tbody tr th:only-of-type {\n",
       "        vertical-align: middle;\n",
       "    }\n",
       "\n",
       "    .dataframe tbody tr th {\n",
       "        vertical-align: top;\n",
       "    }\n",
       "\n",
       "    .dataframe thead th {\n",
       "        text-align: right;\n",
       "    }\n",
       "</style>\n",
       "<table border=\"1\" class=\"dataframe\">\n",
       "  <thead>\n",
       "    <tr style=\"text-align: right;\">\n",
       "      <th></th>\n",
       "      <th>chr</th>\n",
       "      <th>start</th>\n",
       "      <th>end</th>\n",
       "      <th>TargetGene</th>\n",
       "      <th>TargetGeneTSS</th>\n",
       "      <th>class</th>\n",
       "      <th>hic.distance.adj</th>\n",
       "      <th>activity_base</th>\n",
       "      <th>ABC.Score</th>\n",
       "    </tr>\n",
       "  </thead>\n",
       "  <tbody>\n",
       "    <tr>\n",
       "      <th>16915</th>\n",
       "      <td>chr10</td>\n",
       "      <td>1094327</td>\n",
       "      <td>1095580</td>\n",
       "      <td>WDR37</td>\n",
       "      <td>1102775</td>\n",
       "      <td>genic</td>\n",
       "      <td>37.9997</td>\n",
       "      <td>26.7911</td>\n",
       "      <td>0.3692</td>\n",
       "    </tr>\n",
       "    <tr>\n",
       "      <th>16916</th>\n",
       "      <td>chr10</td>\n",
       "      <td>1096020</td>\n",
       "      <td>1096520</td>\n",
       "      <td>WDR37</td>\n",
       "      <td>1102775</td>\n",
       "      <td>genic</td>\n",
       "      <td>100.0000</td>\n",
       "      <td>1.1702</td>\n",
       "      <td>0.0424</td>\n",
       "    </tr>\n",
       "  </tbody>\n",
       "</table>\n",
       "</div>"
      ],
      "text/plain": [
       "         chr    start      end TargetGene  TargetGeneTSS  class  \\\n",
       "16915  chr10  1094327  1095580      WDR37        1102775  genic   \n",
       "16916  chr10  1096020  1096520      WDR37        1102775  genic   \n",
       "\n",
       "       hic.distance.adj  activity_base  ABC.Score  \n",
       "16915           37.9997        26.7911     0.3692  \n",
       "16916          100.0000         1.1702     0.0424  "
      ]
     },
     "execution_count": 297,
     "metadata": {},
     "output_type": "execute_result"
    }
   ],
   "source": [
    "data_6.loc[data_6['TargetGene']=='WDR37']"
   ]
  },
  {
   "cell_type": "code",
   "execution_count": 31,
   "metadata": {},
   "outputs": [
    {
     "data": {
      "text/html": [
       "<div>\n",
       "<style scoped>\n",
       "    .dataframe tbody tr th:only-of-type {\n",
       "        vertical-align: middle;\n",
       "    }\n",
       "\n",
       "    .dataframe tbody tr th {\n",
       "        vertical-align: top;\n",
       "    }\n",
       "\n",
       "    .dataframe thead th {\n",
       "        text-align: right;\n",
       "    }\n",
       "</style>\n",
       "<table border=\"1\" class=\"dataframe\">\n",
       "  <thead>\n",
       "    <tr style=\"text-align: right;\">\n",
       "      <th></th>\n",
       "      <th>chr</th>\n",
       "      <th>start</th>\n",
       "      <th>end</th>\n",
       "      <th>TargetGene</th>\n",
       "      <th>TargetGeneTSS</th>\n",
       "      <th>Normalized_HiC_Contacts</th>\n",
       "      <th>Activity</th>\n",
       "      <th>ABC_Score</th>\n",
       "    </tr>\n",
       "  </thead>\n",
       "  <tbody>\n",
       "    <tr>\n",
       "      <th>1569</th>\n",
       "      <td>chr1</td>\n",
       "      <td>108000000.0</td>\n",
       "      <td>108000000.0</td>\n",
       "      <td>PRMT6</td>\n",
       "      <td>108000000.0</td>\n",
       "      <td>100.0</td>\n",
       "      <td>1.7432</td>\n",
       "      <td>0.0925</td>\n",
       "    </tr>\n",
       "  </tbody>\n",
       "</table>\n",
       "</div>"
      ],
      "text/plain": [
       "       chr        start          end TargetGene  TargetGeneTSS  \\\n",
       "1569  chr1  108000000.0  108000000.0      PRMT6    108000000.0   \n",
       "\n",
       "      Normalized_HiC_Contacts  Activity  ABC_Score  \n",
       "1569                    100.0    1.7432     0.0925  "
      ]
     },
     "execution_count": 31,
     "metadata": {},
     "output_type": "execute_result"
    }
   ],
   "source": [
    "ac_data.loc[(ac_data['TargetGene']==\"PRMT6\")]"
   ]
  },
  {
   "cell_type": "code",
   "execution_count": 296,
   "metadata": {},
   "outputs": [
    {
     "data": {
      "text/html": [
       "<div>\n",
       "<style scoped>\n",
       "    .dataframe tbody tr th:only-of-type {\n",
       "        vertical-align: middle;\n",
       "    }\n",
       "\n",
       "    .dataframe tbody tr th {\n",
       "        vertical-align: top;\n",
       "    }\n",
       "\n",
       "    .dataframe thead th {\n",
       "        text-align: right;\n",
       "    }\n",
       "</style>\n",
       "<table border=\"1\" class=\"dataframe\">\n",
       "  <thead>\n",
       "    <tr style=\"text-align: right;\">\n",
       "      <th></th>\n",
       "      <th>chr</th>\n",
       "      <th>start</th>\n",
       "      <th>end</th>\n",
       "      <th>TargetGene</th>\n",
       "      <th>TargetGeneTSS</th>\n",
       "      <th>class</th>\n",
       "      <th>hic.distance.adj</th>\n",
       "      <th>activity_base</th>\n",
       "      <th>ABC.Score</th>\n",
       "    </tr>\n",
       "  </thead>\n",
       "  <tbody>\n",
       "    <tr>\n",
       "      <th>1923</th>\n",
       "      <td>chr1</td>\n",
       "      <td>107599900</td>\n",
       "      <td>107601220</td>\n",
       "      <td>PRMT6</td>\n",
       "      <td>107599266</td>\n",
       "      <td>genic</td>\n",
       "      <td>100.0</td>\n",
       "      <td>7.4659</td>\n",
       "      <td>0.3643</td>\n",
       "    </tr>\n",
       "  </tbody>\n",
       "</table>\n",
       "</div>"
      ],
      "text/plain": [
       "       chr      start        end TargetGene  TargetGeneTSS  class  \\\n",
       "1923  chr1  107599900  107601220      PRMT6      107599266  genic   \n",
       "\n",
       "      hic.distance.adj  activity_base  ABC.Score  \n",
       "1923             100.0         7.4659     0.3643  "
      ]
     },
     "execution_count": 296,
     "metadata": {},
     "output_type": "execute_result"
    }
   ],
   "source": [
    "data_6.loc[data_6['TargetGene']=='PRMT6']"
   ]
  },
  {
   "cell_type": "code",
   "execution_count": null,
   "metadata": {},
   "outputs": [],
   "source": []
  },
  {
   "cell_type": "code",
   "execution_count": null,
   "metadata": {},
   "outputs": [],
   "source": []
  }
 ],
 "metadata": {
  "kernelspec": {
   "display_name": "Python 3",
   "language": "python",
   "name": "python3"
  },
  "language_info": {
   "codemirror_mode": {
    "name": "ipython",
    "version": 3
   },
   "file_extension": ".py",
   "mimetype": "text/x-python",
   "name": "python",
   "nbconvert_exporter": "python",
   "pygments_lexer": "ipython3",
   "version": "3.6.5"
  }
 },
 "nbformat": 4,
 "nbformat_minor": 2
}
