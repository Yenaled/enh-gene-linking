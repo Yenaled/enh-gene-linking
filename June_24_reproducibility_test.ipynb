{
 "cells": [
  {
   "cell_type": "code",
   "execution_count": 2,
   "metadata": {},
   "outputs": [],
   "source": [
    "import pandas as pd \n",
    "import numpy as np \n",
    "import matplotlib.pyplot as plt \n",
    "import scipy.stats as st"
   ]
  },
  {
   "cell_type": "code",
   "execution_count": 3,
   "metadata": {},
   "outputs": [],
   "source": [
    "J_data = pd.read_csv(\"../EnhancerPredictions/17_June_data/J_EnhancerPredictions.txt\", sep='\\t')\n",
    "data = pd.read_csv(\"../EnhancerPredictions/EnhancerPredictions.txt\", sep='\\t')\n",
    "\n",
    "unique_genes = J_data[['TargetGene', 'TargetGeneTSS']].drop_duplicates()"
   ]
  },
  {
   "cell_type": "code",
   "execution_count": 4,
   "metadata": {},
   "outputs": [
    {
     "name": "stdout",
     "output_type": "stream",
     "text": [
      "1372\n",
      "1372\n",
      "348\n"
     ]
    }
   ],
   "source": [
    "print(len(J_data))\n",
    "print(len(data))\n",
    "print(len(unique_genes))"
   ]
  },
  {
   "cell_type": "markdown",
   "metadata": {},
   "source": [
    "HiC data : ftp://ftp.broadinstitute.org/outgoing/lincRNA/forKristy/chr22_hic_for_kristy.tar.gz\n",
    "\n",
    "Processing HiC data: \n",
    "\n",
    "python src/juicebox_dump.py \\\n",
    "--hic_file GSE63525_K562_combined.hic \\\n",
    "--juicebox \"java -jar juicer_tools.jar\" \\\n",
    "--outdir $HICDIR/raw/ \\\n",
    "--chromosomes 22\n",
    "\n",
    "python src/make_bedgraph_from_HiC.py \\\n",
    "--outdir $HICDIR/bedgraph/ \\\n",
    "--genes example/config/RefSeqCurated.170308.bed.CollapsedGeneBounds.chr22.bed \\\n",
    "--hic_dir $HICDIR/raw/5kb_resolution_intrachromosomal/\n"
   ]
  },
  {
   "cell_type": "code",
   "execution_count": 138,
   "metadata": {},
   "outputs": [],
   "source": [
    "#print(data.columns)"
   ]
  },
  {
   "cell_type": "code",
   "execution_count": 5,
   "metadata": {},
   "outputs": [
    {
     "name": "stdout",
     "output_type": "stream",
     "text": [
      "1370\n",
      "     chr     start       end  DHS.ENCFF030DCL.bam.readCount_x  \\\n",
      "0  chr22  17080380  17081156                               96   \n",
      "1  chr22  17083849  17085052                               84   \n",
      "2  chr22  17081312  17081812                               32   \n",
      "3  chr22  17080380  17081156                               96   \n",
      "4  chr22  17085387  17085887                               25   \n",
      "\n",
      "   DHS.ENCFF030DCL.bam.RPM_x  DHS.ENCFF030DCL.bam.readCount.quantile_x  \\\n",
      "0                     5.6886                                    0.8500   \n",
      "1                     4.9775                                    0.8286   \n",
      "2                     1.8962                                    0.6038   \n",
      "3                     5.6886                                    0.8500   \n",
      "4                     1.4814                                    0.5189   \n",
      "\n",
      "   DHS.ENCFF030DCL.bam.RPM.quantile_x  DHS.ENCFF030DCL.bam.RPKM_x  \\\n",
      "0                              0.8500                      7.3306   \n",
      "1                              0.8286                      4.1376   \n",
      "2                              0.6038                      3.7924   \n",
      "3                              0.8500                      7.3306   \n",
      "4                              0.5189                      2.9628   \n",
      "\n",
      "   DHS.ENCFF030DCL.bam.RPKM.quantile_x  DHS.RPM_x        ...         \\\n",
      "0                               0.8192     5.6886        ...          \n",
      "1                               0.6709     4.9775        ...          \n",
      "2                               0.6439     1.8962        ...          \n",
      "3                               0.8192     5.6886        ...          \n",
      "4                               0.5501     1.4814        ...          \n",
      "\n",
      "   hic.distance.unscaled_y  hic.rowmax.unscaled_y  hic.distance.adj_y  \\\n",
      "0                   0.0260                 0.0574             45.8664   \n",
      "1                   0.0260                 0.0574             45.8664   \n",
      "2                   0.0260                 0.0574             45.8664   \n",
      "3                   0.0592                 0.0592            100.0000   \n",
      "4                   0.0435                 0.0592             73.8763   \n",
      "\n",
      "   hic_adjustment_y  estimatedCP_y  estimatedCP.adj_y  ABC.Score.Numerator_y  \\\n",
      "0            0.4975         0.4143            41.4285               130.9569   \n",
      "1            0.4975         0.3174            31.7430               415.4143   \n",
      "2            0.4975         0.3887            38.8712               112.5083   \n",
      "3            0.4975         0.7109            71.0934               285.5181   \n",
      "4            0.4975         0.6379            63.7918               125.3966   \n",
      "\n",
      "   ABC.Score_y  powerlaw.Score.Numerator_y  powerlaw.Score_y  \n",
      "0       0.0502                    118.2857            0.0707  \n",
      "1       0.1592                    287.4980            0.1719  \n",
      "2       0.0431                     95.3493            0.0570  \n",
      "3       0.0671                    202.9846            0.0688  \n",
      "4       0.0295                    108.2793            0.0367  \n",
      "\n",
      "[5 rows x 97 columns]\n"
     ]
    }
   ],
   "source": [
    "merged_df = pd.merge(J_data, data, how='inner', on=['chr', 'start', 'end', 'TargetGene', 'TargetGeneTSS'])\n",
    "print(len(merged_df))\n",
    "print(merged_df[:5])\n",
    "#1261 common entries between the two"
   ]
  },
  {
   "cell_type": "markdown",
   "metadata": {},
   "source": [
    "## Correlation Graph between K_ABC and J_ABC"
   ]
  },
  {
   "cell_type": "code",
   "execution_count": 6,
   "metadata": {},
   "outputs": [
    {
     "data": {
      "text/plain": [
       "[<matplotlib.lines.Line2D at 0x1a19958668>]"
      ]
     },
     "execution_count": 6,
     "metadata": {},
     "output_type": "execute_result"
    },
    {
     "data": {
      "image/png": "[encoded data removed]",
      "text/plain": [
       "<Figure size 432x288 with 1 Axes>"
      ]
     },
     "metadata": {},
     "output_type": "display_data"
    }
   ],
   "source": [
    "x= merged_df['ABC.Score_x']\n",
    "y= merged_df['ABC.Score_y']\n",
    "plt.xlabel('J_ABC Score')\n",
    "plt.ylabel('K_ABC Score')\n",
    "plt.title('Scatterplot')\n",
    "plt.plot(x, y, 'ro')\n",
    "\n",
    "# Look at different points in the scatterplot \n",
    "# for the bigger differences "
   ]
  },
  {
   "cell_type": "code",
   "execution_count": 8,
   "metadata": {},
   "outputs": [],
   "source": [
    "# Gaussian kernel density \n",
    "#nbins = 400\n",
    "actual_scores_1 = np.asarray(x)\n",
    "scores_1 = np.asarray(y)\n",
    "\n",
    "\n",
    "#k = st.gaussian_kde([actual_scores_1, scores_1])\n",
    "#xi, yi = np.mgrid[actual_scores_1.min():actual_scores_1.max():nbins*1j, scores_1.min():scores_1.max():nbins*1j]\n",
    "#zi = k(np.vstack([xi.flatten(), yi.flatten()]))\n"
   ]
  },
  {
   "cell_type": "code",
   "execution_count": 12,
   "metadata": {},
   "outputs": [
    {
     "data": {
      "text/plain": [
       "<matplotlib.collections.PolyCollection at 0x1a28a5df60>"
      ]
     },
     "execution_count": 12,
     "metadata": {},
     "output_type": "execute_result"
    },
    {
     "data": {
      "image/png": "[encoded data removed]",
      "text/plain": [
       "<Figure size 432x288 with 1 Axes>"
      ]
     },
     "metadata": {},
     "output_type": "display_data"
    }
   ],
   "source": [
    "# Make Plot \n",
    "fig, axes = plt.subplots(ncols=1, nrows=1, sharex=True, sharey=True)\n",
    "plt.xlabel('K_ABC Score')\n",
    "plt.ylabel('ABC Score')\n",
    "nbins=30\n",
    "\n",
    "axes.set_title('Hexbin plot')\n",
    "axes.hexbin(x, y, gridsize=nbins, bins='log',xscale='log', yscale='log')\n",
    "#axes[1].set_title('Gaussian Kernel Density Estimation')\n",
    "#axes[1].pcolormesh(xi,yi,zi.reshape(xi.shape), vmin=0, vmax=1)\n",
    "#fig.tight_layout()"
   ]
  },
  {
   "cell_type": "code",
   "execution_count": 13,
   "metadata": {},
   "outputs": [
    {
     "name": "stdout",
     "output_type": "stream",
     "text": [
      "Pearson_correlation: (1.0, 0.0)\n",
      "Spearman_correlation: SpearmanrResult(correlation=0.9999999999999999, pvalue=0.0)\n"
     ]
    }
   ],
   "source": [
    "import scipy.stats\n",
    "\n",
    "print(\"Pearson_correlation: {}\".format(scipy.stats.pearsonr(actual_scores_1, scores_1)))\n",
    "print(\"Spearman_correlation: {}\".format(scipy.stats.spearmanr(actual_scores_1,scores_1)))"
   ]
  },
  {
   "cell_type": "code",
   "execution_count": 14,
   "metadata": {},
   "outputs": [
    {
     "data": {
      "text/plain": [
       "(array([   0.,    0.,    0.,    0.,    0.,    0.,    0., 1370.,    0.,\n",
       "           0.,    0.,    0.,    0.]),\n",
       " array([-0.007, -0.006, -0.005, -0.004, -0.003, -0.002, -0.001,  0.   ,\n",
       "         0.001,  0.002,  0.003,  0.004,  0.005,  0.006]),\n",
       " <a list of 13 Patch objects>)"
      ]
     },
     "execution_count": 14,
     "metadata": {},
     "output_type": "execute_result"
    },
    {
     "data": {
      "image/png": "[encoded data removed]",
      "text/plain": [
       "<Figure size 432x288 with 1 Axes>"
      ]
     },
     "metadata": {},
     "output_type": "display_data"
    }
   ],
   "source": [
    "from matplotlib import pyplot as plt\n",
    "import numpy as np\n",
    "\n",
    "differences = np.array(x) - np.array(y)\n",
    "plt.hist(differences, bins=np.arange(-0.007,0.007, 0.001))"
   ]
  },
  {
   "cell_type": "code",
   "execution_count": 15,
   "metadata": {},
   "outputs": [
    {
     "name": "stdout",
     "output_type": "stream",
     "text": [
      "0.0\n",
      "0.0\n"
     ]
    }
   ],
   "source": [
    "print(abs(np.mean(differences)))\n",
    "print(np.std(differences))\n"
   ]
  },
  {
   "cell_type": "code",
   "execution_count": 16,
   "metadata": {},
   "outputs": [
    {
     "data": {
      "text/plain": [
       "0"
      ]
     },
     "execution_count": 16,
     "metadata": {},
     "output_type": "execute_result"
    }
   ],
   "source": [
    "(differences>0.05).sum()"
   ]
  }
 ],
 "metadata": {
  "kernelspec": {
   "display_name": "Python 3",
   "language": "python",
   "name": "python3"
  },
  "language_info": {
   "codemirror_mode": {
    "name": "ipython",
    "version": 3
   },
   "file_extension": ".py",
   "mimetype": "text/x-python",
   "name": "python",
   "nbconvert_exporter": "python",
   "pygments_lexer": "ipython3",
   "version": "3.6.5"
  }
 },
 "nbformat": 4,
 "nbformat_minor": 2
}
